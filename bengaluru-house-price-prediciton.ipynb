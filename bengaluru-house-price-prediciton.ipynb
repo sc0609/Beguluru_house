{
 "cells": [
  {
   "cell_type": "code",
   "execution_count": 1,
   "id": "28898878",
   "metadata": {
    "_kg_hide-input": true,
    "execution": {
     "iopub.execute_input": "2024-09-14T19:33:44.716150Z",
     "iopub.status.busy": "2024-09-14T19:33:44.715645Z",
     "iopub.status.idle": "2024-09-14T19:33:44.735360Z",
     "shell.execute_reply": "2024-09-14T19:33:44.734062Z"
    },
    "papermill": {
     "duration": 0.064796,
     "end_time": "2024-09-14T19:33:44.737904",
     "exception": false,
     "start_time": "2024-09-14T19:33:44.673108",
     "status": "completed"
    },
    "tags": []
   },
   "outputs": [
    {
     "data": {
      "text/html": [
       "\n",
       "<!DOCTYPE html>\n",
       "<html lang=\"en\">\n",
       "    <head>\n",
       "    \n",
       "    <style>\n",
       "    \n",
       ".section2{\n",
       "    Font-Family: 'Playfair Display', Serif;\n",
       "    font-style: italic;\n",
       "    font-weight: bold;\n",
       "    background: #D9D874;\n",
       "    color:black;\n",
       "    text-align: center;\n",
       "    font-size:30px;\n",
       "    }\n",
       "    \n",
       ".section{\n",
       "    Font-Family: 'Source Sans Pro', Sans-Serif;\n",
       "    font-weight: bold;\n",
       "    font-size:17px;\n",
       "    color:#FFA500;\n",
       "}\n",
       "\n",
       ".intro{\n",
       "    Font-Family: 'Playfair Display', Serif;\n",
       "    text-align:center;\n",
       "    font-size:25px;\n",
       "    color:#4e4151;\n",
       "    letter-spacing:0.5px;\n",
       "    \n",
       "    display:fill;\n",
       "    background-color:#dbba78;\n",
       "    padding: 0.8em;\n",
       "    \n",
       "    border-style: solid;\n",
       "    border-color:#4e4151;\n",
       "    border-radius:10px;     \n",
       "}\n",
       "\n",
       ".final{\n",
       "    Font-Family: 'Playfair Display', Serif;\n",
       "    text-align:center;\n",
       "    font-size:23px;\n",
       "    color:#4e4151;\n",
       "    letter-spacing:0.5px;\n",
       "    \n",
       "    display:fill;\n",
       "    background-color:#dbba78;\n",
       "    padding: 0.8em;\n",
       "    \n",
       "    border-style: dashed;\n",
       "    border-color:#4e4151;\n",
       "    border-radius:10px;     \n",
       "}\n",
       "\n",
       "mark {\n",
       "  Font-Family: 'Playfair Display', Serif;\n",
       "  font-style: italic;\n",
       "  background: #a02933;\n",
       "  font-weight: bold;\n",
       "  color: #dbba78;\n",
       "  text-align: center;\n",
       "  font-size:25px;\n",
       "  justify-content: center;\n",
       "}\n",
       "\n",
       ".intro2 {\n",
       "       padding: 1rem;\n",
       "       width: 600px;\n",
       "       0 5px 15px 0 rgba(0,0,0,0.08);\n",
       "       border-color:#4e4151;\n",
       "       border-radius:5px;  \n",
       "       border-style: dashed;\n",
       "       background-color:#dbba78;\n",
       "       font-size:15px;\n",
       "       font-family: 'Playfair Display', Serif;\n",
       "       font-weight: none;\n",
       "       letter-spacing:0.5px;\n",
       "       text-align: left;\n",
       "       border-width: 2px;\n",
       "       color: #4e4151;\n",
       "  \n",
       "}\n",
       "\n",
       "hr { border: 0.2px solid #a02933;\n",
       "           }\n",
       "    \n",
       "    \n",
       "    </style>\n",
       "    </head>\n",
       "    \n",
       "</html>\n"
      ],
      "text/plain": [
       "<IPython.core.display.HTML object>"
      ]
     },
     "execution_count": 1,
     "metadata": {},
     "output_type": "execute_result"
    }
   ],
   "source": [
    "from IPython.display import display, HTML, Javascript\n",
    "\n",
    "html_contents =\"\"\"\n",
    "<!DOCTYPE html>\n",
    "<html lang=\"en\">\n",
    "    <head>\n",
    "    \n",
    "    <style>\n",
    "    \n",
    ".section2{\n",
    "    Font-Family: 'Playfair Display', Serif;\n",
    "    font-style: italic;\n",
    "    font-weight: bold;\n",
    "    background: #D9D874;\n",
    "    color:black;\n",
    "    text-align: center;\n",
    "    font-size:30px;\n",
    "    }\n",
    "    \n",
    ".section{\n",
    "    Font-Family: 'Source Sans Pro', Sans-Serif;\n",
    "    font-weight: bold;\n",
    "    font-size:17px;\n",
    "    color:#FFA500;\n",
    "}\n",
    "\n",
    ".intro{\n",
    "    Font-Family: 'Playfair Display', Serif;\n",
    "    text-align:center;\n",
    "    font-size:25px;\n",
    "    color:#4e4151;\n",
    "    letter-spacing:0.5px;\n",
    "    \n",
    "    display:fill;\n",
    "    background-color:#dbba78;\n",
    "    padding: 0.8em;\n",
    "    \n",
    "    border-style: solid;\n",
    "    border-color:#4e4151;\n",
    "    border-radius:10px;     \n",
    "}\n",
    "\n",
    ".final{\n",
    "    Font-Family: 'Playfair Display', Serif;\n",
    "    text-align:center;\n",
    "    font-size:23px;\n",
    "    color:#4e4151;\n",
    "    letter-spacing:0.5px;\n",
    "    \n",
    "    display:fill;\n",
    "    background-color:#dbba78;\n",
    "    padding: 0.8em;\n",
    "    \n",
    "    border-style: dashed;\n",
    "    border-color:#4e4151;\n",
    "    border-radius:10px;     \n",
    "}\n",
    "\n",
    "mark {\n",
    "  Font-Family: 'Playfair Display', Serif;\n",
    "  font-style: italic;\n",
    "  background: #a02933;\n",
    "  font-weight: bold;\n",
    "  color: #dbba78;\n",
    "  text-align: center;\n",
    "  font-size:25px;\n",
    "  justify-content: center;\n",
    "}\n",
    "\n",
    ".intro2 {\n",
    "       padding: 1rem;\n",
    "       width: 600px;\n",
    "       0 5px 15px 0 rgba(0,0,0,0.08);\n",
    "       border-color:#4e4151;\n",
    "       border-radius:5px;  \n",
    "       border-style: dashed;\n",
    "       background-color:#dbba78;\n",
    "       font-size:15px;\n",
    "       font-family: 'Playfair Display', Serif;\n",
    "       font-weight: none;\n",
    "       letter-spacing:0.5px;\n",
    "       text-align: left;\n",
    "       border-width: 2px;\n",
    "       color: #4e4151;\n",
    "  \n",
    "}\n",
    "\n",
    "hr { border: 0.2px solid #a02933;\n",
    "           }\n",
    "    \n",
    "    \n",
    "    </style>\n",
    "    </head>\n",
    "    \n",
    "</html>\n",
    "\"\"\"\n",
    "\n",
    "HTML(html_contents)"
   ]
  },
  {
   "cell_type": "code",
   "execution_count": 2,
   "id": "75e3264e",
   "metadata": {
    "_kg_hide-input": true,
    "execution": {
     "iopub.execute_input": "2024-09-14T19:33:44.813592Z",
     "iopub.status.busy": "2024-09-14T19:33:44.813141Z",
     "iopub.status.idle": "2024-09-14T19:33:44.828745Z",
     "shell.execute_reply": "2024-09-14T19:33:44.827553Z"
    },
    "papermill": {
     "duration": 0.056809,
     "end_time": "2024-09-14T19:33:44.831375",
     "exception": false,
     "start_time": "2024-09-14T19:33:44.774566",
     "status": "completed"
    },
    "tags": []
   },
   "outputs": [
    {
     "data": {
      "text/html": [
       "<style> \n",
       "\n",
       "div #notebook {\n",
       "background-color: white;\n",
       "line-height: 20px;\n",
       "}\n",
       "\n",
       "#notebook-container {\n",
       "width: 95%;\n",
       "margin-top: 2em;\n",
       "padding-top: 2em;\n",
       "border-top: 4px solid #dbba78; /* light orange */\n",
       "-webkit-box-shadow: 0px 0px 8px 2px rgba(224, 212, 226, 0.5); /* pink */\n",
       "    box-shadow: 0px 0px 8px 2px rgba(224, 212, 226, 0.5); /* pink */\n",
       "}\n",
       "\n",
       "div .input {\n",
       "margin-bottom: 1em;\n",
       "}\n",
       "\n",
       ".rendered_html h1, .rendered_html h2, .rendered_html h3, .rendered_html h4, .rendered_html h5, .rendered_html h6 {\n",
       "color: #dbba78; /* light orange */\n",
       "font-weight: 600;\n",
       "}\n",
       "\n",
       "div.input_area {\n",
       "border: none;\n",
       "    background-color: rgba(219, 186, 120, 0.1); /* rgba(229, 143, 101, 0.1); light orange [exactly #E58F65] */\n",
       "    border-top: 2px solid #dbba78; /* light orange */\n",
       "}\n",
       "\n",
       "div.input_prompt {\n",
       "color: #dbba78; /* light blue */\n",
       "}\n",
       "\n",
       "div.output_prompt {\n",
       "color: #717cb4; /* strong orange */\n",
       "}\n",
       "\n",
       "div.cell.selected:before, div.cell.selected.jupyter-soft-selected:before {\n",
       "background: #dbba78; /* light orange */\n",
       "}\n",
       "\n",
       "div.cell.selected, div.cell.selected.jupyter-soft-selected {\n",
       "    border-color: #dbba78; /* light orange */\n",
       "}\n",
       "\n",
       ".edit_mode div.cell.selected:before {\n",
       "background: #dbba78; /* light orange */\n",
       "}\n",
       "\n",
       ".edit_mode div.cell.selected {\n",
       "border-color: #dbba78; /* light orange */\n",
       "\n",
       "}\n",
       "</style>"
      ],
      "text/plain": [
       "<IPython.core.display.HTML object>"
      ]
     },
     "execution_count": 2,
     "metadata": {},
     "output_type": "execute_result"
    }
   ],
   "source": [
    "from IPython.display import display, HTML, Javascript\n",
    "\n",
    "# ----- Notebook Theme -----\n",
    "color_map  = [\"#bfd3e6\", \"#9b5b4f\", \"#4e4151\", \"#dbba78\", \"#bb9c55\", \"#909195\",\"#dc1e1e\",\"#a02933\",\"#716807\",\"#717cb4\"]\n",
    "\n",
    "prompt = color_map[-1]\n",
    "main_color = color_map[3]\n",
    "strong_main_color = color_map[1]\n",
    "custom_colors = [strong_main_color, main_color]\n",
    "\n",
    "css_file = ''' \n",
    "\n",
    "div #notebook {\n",
    "background-color: white;\n",
    "line-height: 20px;\n",
    "}\n",
    "\n",
    "#notebook-container {\n",
    "%s\n",
    "margin-top: 2em;\n",
    "padding-top: 2em;\n",
    "border-top: 4px solid %s; /* light orange */\n",
    "-webkit-box-shadow: 0px 0px 8px 2px rgba(224, 212, 226, 0.5); /* pink */\n",
    "    box-shadow: 0px 0px 8px 2px rgba(224, 212, 226, 0.5); /* pink */\n",
    "}\n",
    "\n",
    "div .input {\n",
    "margin-bottom: 1em;\n",
    "}\n",
    "\n",
    ".rendered_html h1, .rendered_html h2, .rendered_html h3, .rendered_html h4, .rendered_html h5, .rendered_html h6 {\n",
    "color: %s; /* light orange */\n",
    "font-weight: 600;\n",
    "}\n",
    "\n",
    "div.input_area {\n",
    "border: none;\n",
    "    background-color: %s; /* rgba(229, 143, 101, 0.1); light orange [exactly #E58F65] */\n",
    "    border-top: 2px solid %s; /* light orange */\n",
    "}\n",
    "\n",
    "div.input_prompt {\n",
    "color: %s; /* light blue */\n",
    "}\n",
    "\n",
    "div.output_prompt {\n",
    "color: %s; /* strong orange */\n",
    "}\n",
    "\n",
    "div.cell.selected:before, div.cell.selected.jupyter-soft-selected:before {\n",
    "background: %s; /* light orange */\n",
    "}\n",
    "\n",
    "div.cell.selected, div.cell.selected.jupyter-soft-selected {\n",
    "    border-color: %s; /* light orange */\n",
    "}\n",
    "\n",
    ".edit_mode div.cell.selected:before {\n",
    "background: %s; /* light orange */\n",
    "}\n",
    "\n",
    ".edit_mode div.cell.selected {\n",
    "border-color: %s; /* light orange */\n",
    "\n",
    "}\n",
    "'''\n",
    "def to_rgb(h): \n",
    "    return tuple(int(h[i:i+2], 16) for i in [0, 2, 4])\n",
    "\n",
    "main_color_rgba = 'rgba(%s, %s, %s, 0.1)' % (to_rgb(main_color[1:]))\n",
    "open('notebook.css', 'w').write(css_file % ('width: 95%;', main_color, main_color, main_color_rgba, main_color,  main_color, prompt, main_color, main_color, main_color, main_color))\n",
    "\n",
    "def nb(): \n",
    "    return HTML(\"<style>\" + open(\"notebook.css\", \"r\").read() + \"</style>\")\n",
    "nb()\n"
   ]
  },
  {
   "cell_type": "markdown",
   "id": "7cc04f8e",
   "metadata": {
    "papermill": {
     "duration": 0.036193,
     "end_time": "2024-09-14T19:33:44.904338",
     "exception": false,
     "start_time": "2024-09-14T19:33:44.868145",
     "status": "completed"
    },
    "tags": []
   },
   "source": [
    "# <center> <span style=\"font-family:Playfair Display\"> <span style=\"color:white;display:fill;border-radius:8px;background-color:#a02933;font-size:100%;font-weight: bold;\">ㅤIntroductionㅤ</span><a id=\"1\"></a> "
   ]
  },
  {
   "cell_type": "markdown",
   "id": "d345cafe",
   "metadata": {
    "papermill": {
     "duration": 0.037095,
     "end_time": "2024-09-14T19:33:44.980032",
     "exception": false,
     "start_time": "2024-09-14T19:33:44.942937",
     "status": "completed"
    },
    "tags": []
   },
   "source": [
    "Real estate is one of the most significant and high-stakes sectors in India, especially in rapidly growing urban centers like Bengaluru, often referred to as the \"Silicon Valley of India.\" With its status as a hub for IT and innovation, Bengaluru has seen explosive population growth, leading to a continuous demand for residential and commercial properties. However, predicting house prices in this dynamic and competitive market can be challenging due to the multitude of factors involved, such as location, size, amenities, and market trends.\n",
    "\n",
    "In this project, we aim to develop a predictive model for Bengaluru house prices using machine learning techniques. By leveraging historical data on property features and sale prices, the model will help estimate the price of a house based on various attributes like the number of bedrooms, bathrooms, square footage, and location specifics. Accurate predictions can provide valuable insights to homebuyers, real estate agents, and investors, assisting them in making informed decisions.\n",
    "\n",
    "The goal of this project is not only to predict house prices but also to explore the key factors driving price fluctuations in Bengaluru’s real estate market. The dataset used for this project contains features such as the number of bedrooms, the size of the property, and the locality. Through data analysis and model building, we will uncover the relationships between these variables and their impact on house prices."
   ]
  },
  {
   "cell_type": "markdown",
   "id": "d7815ab6",
   "metadata": {
    "papermill": {
     "duration": 0.037132,
     "end_time": "2024-09-14T19:33:45.053762",
     "exception": false,
     "start_time": "2024-09-14T19:33:45.016630",
     "status": "completed"
    },
    "tags": []
   },
   "source": [
    "# <center> <span style=\"font-family:Playfair Display\"> <span style=\"color:white;display:fill;border-radius:8px;background-color:#a02933;font-size:100%;font-weight: bold;\">ㅤImporting Libraries & DataSetㅤ</span><a id=\"1\"></a> "
   ]
  },
  {
   "cell_type": "code",
   "execution_count": 3,
   "id": "053b0514",
   "metadata": {
    "execution": {
     "iopub.execute_input": "2024-09-14T19:33:45.130448Z",
     "iopub.status.busy": "2024-09-14T19:33:45.130016Z",
     "iopub.status.idle": "2024-09-14T19:33:45.592848Z",
     "shell.execute_reply": "2024-09-14T19:33:45.591609Z"
    },
    "papermill": {
     "duration": 0.505061,
     "end_time": "2024-09-14T19:33:45.595983",
     "exception": false,
     "start_time": "2024-09-14T19:33:45.090922",
     "status": "completed"
    },
    "tags": []
   },
   "outputs": [],
   "source": [
    "import pandas as pd \n",
    "import numpy as np \n",
    "from matplotlib import pyplot as plt \n",
    "%matplotlib inline\n",
    "import matplotlib\n",
    "matplotlib\n",
    "import warnings\n",
    "warnings.filterwarnings('ignore')\n",
    "\n",
    "# importing custom matplotlib parameters for vizualizations\n",
    "plt.rcParams['figure.figsize'] = (14,4)\n",
    "plt.rcParams['axes.edgecolor'] = 'black'\n",
    "plt.rcParams['axes.linewidth'] = 1.5\n",
    "plt.rcParams['figure.frameon'] = True\n",
    "plt.rcParams['axes.spines.top'] = False\n",
    "plt.rcParams['axes.spines.right'] = False\n",
    "plt.rcParams[\"font.family\"] = \"monospace\";"
   ]
  },
  {
   "cell_type": "code",
   "execution_count": 4,
   "id": "e868a4f3",
   "metadata": {
    "execution": {
     "iopub.execute_input": "2024-09-14T19:33:45.672658Z",
     "iopub.status.busy": "2024-09-14T19:33:45.672048Z",
     "iopub.status.idle": "2024-09-14T19:33:45.763627Z",
     "shell.execute_reply": "2024-09-14T19:33:45.762430Z"
    },
    "papermill": {
     "duration": 0.132512,
     "end_time": "2024-09-14T19:33:45.766081",
     "exception": false,
     "start_time": "2024-09-14T19:33:45.633569",
     "status": "completed"
    },
    "tags": []
   },
   "outputs": [
    {
     "data": {
      "text/html": [
       "<div>\n",
       "<style scoped>\n",
       "    .dataframe tbody tr th:only-of-type {\n",
       "        vertical-align: middle;\n",
       "    }\n",
       "\n",
       "    .dataframe tbody tr th {\n",
       "        vertical-align: top;\n",
       "    }\n",
       "\n",
       "    .dataframe thead th {\n",
       "        text-align: right;\n",
       "    }\n",
       "</style>\n",
       "<table border=\"1\" class=\"dataframe\">\n",
       "  <thead>\n",
       "    <tr style=\"text-align: right;\">\n",
       "      <th></th>\n",
       "      <th>area_type</th>\n",
       "      <th>availability</th>\n",
       "      <th>location</th>\n",
       "      <th>size</th>\n",
       "      <th>society</th>\n",
       "      <th>total_sqft</th>\n",
       "      <th>bath</th>\n",
       "      <th>balcony</th>\n",
       "      <th>price</th>\n",
       "    </tr>\n",
       "  </thead>\n",
       "  <tbody>\n",
       "    <tr>\n",
       "      <th>0</th>\n",
       "      <td>Super built-up  Area</td>\n",
       "      <td>19-Dec</td>\n",
       "      <td>Electronic City Phase II</td>\n",
       "      <td>2 BHK</td>\n",
       "      <td>Coomee</td>\n",
       "      <td>1056</td>\n",
       "      <td>2.0</td>\n",
       "      <td>1.0</td>\n",
       "      <td>39.07</td>\n",
       "    </tr>\n",
       "    <tr>\n",
       "      <th>1</th>\n",
       "      <td>Plot  Area</td>\n",
       "      <td>Ready To Move</td>\n",
       "      <td>Chikka Tirupathi</td>\n",
       "      <td>4 Bedroom</td>\n",
       "      <td>Theanmp</td>\n",
       "      <td>2600</td>\n",
       "      <td>5.0</td>\n",
       "      <td>3.0</td>\n",
       "      <td>120.00</td>\n",
       "    </tr>\n",
       "    <tr>\n",
       "      <th>2</th>\n",
       "      <td>Built-up  Area</td>\n",
       "      <td>Ready To Move</td>\n",
       "      <td>Uttarahalli</td>\n",
       "      <td>3 BHK</td>\n",
       "      <td>NaN</td>\n",
       "      <td>1440</td>\n",
       "      <td>2.0</td>\n",
       "      <td>3.0</td>\n",
       "      <td>62.00</td>\n",
       "    </tr>\n",
       "    <tr>\n",
       "      <th>3</th>\n",
       "      <td>Super built-up  Area</td>\n",
       "      <td>Ready To Move</td>\n",
       "      <td>Lingadheeranahalli</td>\n",
       "      <td>3 BHK</td>\n",
       "      <td>Soiewre</td>\n",
       "      <td>1521</td>\n",
       "      <td>3.0</td>\n",
       "      <td>1.0</td>\n",
       "      <td>95.00</td>\n",
       "    </tr>\n",
       "    <tr>\n",
       "      <th>4</th>\n",
       "      <td>Super built-up  Area</td>\n",
       "      <td>Ready To Move</td>\n",
       "      <td>Kothanur</td>\n",
       "      <td>2 BHK</td>\n",
       "      <td>NaN</td>\n",
       "      <td>1200</td>\n",
       "      <td>2.0</td>\n",
       "      <td>1.0</td>\n",
       "      <td>51.00</td>\n",
       "    </tr>\n",
       "  </tbody>\n",
       "</table>\n",
       "</div>"
      ],
      "text/plain": [
       "              area_type   availability                  location       size  \\\n",
       "0  Super built-up  Area         19-Dec  Electronic City Phase II      2 BHK   \n",
       "1            Plot  Area  Ready To Move          Chikka Tirupathi  4 Bedroom   \n",
       "2        Built-up  Area  Ready To Move               Uttarahalli      3 BHK   \n",
       "3  Super built-up  Area  Ready To Move        Lingadheeranahalli      3 BHK   \n",
       "4  Super built-up  Area  Ready To Move                  Kothanur      2 BHK   \n",
       "\n",
       "   society total_sqft  bath  balcony   price  \n",
       "0  Coomee        1056   2.0      1.0   39.07  \n",
       "1  Theanmp       2600   5.0      3.0  120.00  \n",
       "2      NaN       1440   2.0      3.0   62.00  \n",
       "3  Soiewre       1521   3.0      1.0   95.00  \n",
       "4      NaN       1200   2.0      1.0   51.00  "
      ]
     },
     "execution_count": 4,
     "metadata": {},
     "output_type": "execute_result"
    }
   ],
   "source": [
    "df = pd.read_csv(\"/kaggle/input/bengaluru-house-price-data/Bengaluru_House_Data.csv\")\n",
    "df.head()"
   ]
  },
  {
   "cell_type": "code",
   "execution_count": 5,
   "id": "71d0d4cd",
   "metadata": {
    "execution": {
     "iopub.execute_input": "2024-09-14T19:33:45.843327Z",
     "iopub.status.busy": "2024-09-14T19:33:45.842883Z",
     "iopub.status.idle": "2024-09-14T19:33:45.850991Z",
     "shell.execute_reply": "2024-09-14T19:33:45.849750Z"
    },
    "papermill": {
     "duration": 0.049568,
     "end_time": "2024-09-14T19:33:45.853352",
     "exception": false,
     "start_time": "2024-09-14T19:33:45.803784",
     "status": "completed"
    },
    "tags": []
   },
   "outputs": [
    {
     "data": {
      "text/plain": [
       "(13320, 9)"
      ]
     },
     "execution_count": 5,
     "metadata": {},
     "output_type": "execute_result"
    }
   ],
   "source": [
    "df.shape"
   ]
  },
  {
   "cell_type": "code",
   "execution_count": 6,
   "id": "7fdb5a82",
   "metadata": {
    "execution": {
     "iopub.execute_input": "2024-09-14T19:33:45.930402Z",
     "iopub.status.busy": "2024-09-14T19:33:45.929540Z",
     "iopub.status.idle": "2024-09-14T19:33:45.950542Z",
     "shell.execute_reply": "2024-09-14T19:33:45.949147Z"
    },
    "papermill": {
     "duration": 0.062479,
     "end_time": "2024-09-14T19:33:45.953214",
     "exception": false,
     "start_time": "2024-09-14T19:33:45.890735",
     "status": "completed"
    },
    "tags": []
   },
   "outputs": [
    {
     "data": {
      "text/plain": [
       "<bound method DataFrame.info of                   area_type   availability                  location  \\\n",
       "0      Super built-up  Area         19-Dec  Electronic City Phase II   \n",
       "1                Plot  Area  Ready To Move          Chikka Tirupathi   \n",
       "2            Built-up  Area  Ready To Move               Uttarahalli   \n",
       "3      Super built-up  Area  Ready To Move        Lingadheeranahalli   \n",
       "4      Super built-up  Area  Ready To Move                  Kothanur   \n",
       "...                     ...            ...                       ...   \n",
       "13315        Built-up  Area  Ready To Move                Whitefield   \n",
       "13316  Super built-up  Area  Ready To Move             Richards Town   \n",
       "13317        Built-up  Area  Ready To Move     Raja Rajeshwari Nagar   \n",
       "13318  Super built-up  Area         18-Jun           Padmanabhanagar   \n",
       "13319  Super built-up  Area  Ready To Move              Doddathoguru   \n",
       "\n",
       "            size  society total_sqft  bath  balcony   price  \n",
       "0          2 BHK  Coomee        1056   2.0      1.0   39.07  \n",
       "1      4 Bedroom  Theanmp       2600   5.0      3.0  120.00  \n",
       "2          3 BHK      NaN       1440   2.0      3.0   62.00  \n",
       "3          3 BHK  Soiewre       1521   3.0      1.0   95.00  \n",
       "4          2 BHK      NaN       1200   2.0      1.0   51.00  \n",
       "...          ...      ...        ...   ...      ...     ...  \n",
       "13315  5 Bedroom  ArsiaEx       3453   4.0      0.0  231.00  \n",
       "13316      4 BHK      NaN       3600   5.0      NaN  400.00  \n",
       "13317      2 BHK  Mahla T       1141   2.0      1.0   60.00  \n",
       "13318      4 BHK  SollyCl       4689   4.0      1.0  488.00  \n",
       "13319      1 BHK      NaN        550   1.0      1.0   17.00  \n",
       "\n",
       "[13320 rows x 9 columns]>"
      ]
     },
     "execution_count": 6,
     "metadata": {},
     "output_type": "execute_result"
    }
   ],
   "source": [
    "df.info"
   ]
  },
  {
   "cell_type": "code",
   "execution_count": 7,
   "id": "98c04918",
   "metadata": {
    "execution": {
     "iopub.execute_input": "2024-09-14T19:33:46.029282Z",
     "iopub.status.busy": "2024-09-14T19:33:46.028754Z",
     "iopub.status.idle": "2024-09-14T19:33:46.046336Z",
     "shell.execute_reply": "2024-09-14T19:33:46.045034Z"
    },
    "papermill": {
     "duration": 0.058747,
     "end_time": "2024-09-14T19:33:46.048970",
     "exception": false,
     "start_time": "2024-09-14T19:33:45.990223",
     "status": "completed"
    },
    "tags": []
   },
   "outputs": [
    {
     "data": {
      "text/plain": [
       "area_type\n",
       "Built-up  Area          2418\n",
       "Carpet  Area              87\n",
       "Plot  Area              2025\n",
       "Super built-up  Area    8790\n",
       "Name: area_type, dtype: int64"
      ]
     },
     "execution_count": 7,
     "metadata": {},
     "output_type": "execute_result"
    }
   ],
   "source": [
    "# Lets examine tre area_type feature\n",
    "df.groupby('area_type')['area_type'].agg(\"count\")"
   ]
  },
  {
   "cell_type": "code",
   "execution_count": 8,
   "id": "8494fa4e",
   "metadata": {
    "execution": {
     "iopub.execute_input": "2024-09-14T19:33:46.128608Z",
     "iopub.status.busy": "2024-09-14T19:33:46.127483Z",
     "iopub.status.idle": "2024-09-14T19:33:46.149520Z",
     "shell.execute_reply": "2024-09-14T19:33:46.148225Z"
    },
    "papermill": {
     "duration": 0.065826,
     "end_time": "2024-09-14T19:33:46.152439",
     "exception": false,
     "start_time": "2024-09-14T19:33:46.086613",
     "status": "completed"
    },
    "tags": []
   },
   "outputs": [
    {
     "data": {
      "text/html": [
       "<div>\n",
       "<style scoped>\n",
       "    .dataframe tbody tr th:only-of-type {\n",
       "        vertical-align: middle;\n",
       "    }\n",
       "\n",
       "    .dataframe tbody tr th {\n",
       "        vertical-align: top;\n",
       "    }\n",
       "\n",
       "    .dataframe thead th {\n",
       "        text-align: right;\n",
       "    }\n",
       "</style>\n",
       "<table border=\"1\" class=\"dataframe\">\n",
       "  <thead>\n",
       "    <tr style=\"text-align: right;\">\n",
       "      <th></th>\n",
       "      <th>location</th>\n",
       "      <th>size</th>\n",
       "      <th>total_sqft</th>\n",
       "      <th>bath</th>\n",
       "      <th>price</th>\n",
       "    </tr>\n",
       "  </thead>\n",
       "  <tbody>\n",
       "    <tr>\n",
       "      <th>0</th>\n",
       "      <td>Electronic City Phase II</td>\n",
       "      <td>2 BHK</td>\n",
       "      <td>1056</td>\n",
       "      <td>2.0</td>\n",
       "      <td>39.07</td>\n",
       "    </tr>\n",
       "    <tr>\n",
       "      <th>1</th>\n",
       "      <td>Chikka Tirupathi</td>\n",
       "      <td>4 Bedroom</td>\n",
       "      <td>2600</td>\n",
       "      <td>5.0</td>\n",
       "      <td>120.00</td>\n",
       "    </tr>\n",
       "    <tr>\n",
       "      <th>2</th>\n",
       "      <td>Uttarahalli</td>\n",
       "      <td>3 BHK</td>\n",
       "      <td>1440</td>\n",
       "      <td>2.0</td>\n",
       "      <td>62.00</td>\n",
       "    </tr>\n",
       "    <tr>\n",
       "      <th>3</th>\n",
       "      <td>Lingadheeranahalli</td>\n",
       "      <td>3 BHK</td>\n",
       "      <td>1521</td>\n",
       "      <td>3.0</td>\n",
       "      <td>95.00</td>\n",
       "    </tr>\n",
       "    <tr>\n",
       "      <th>4</th>\n",
       "      <td>Kothanur</td>\n",
       "      <td>2 BHK</td>\n",
       "      <td>1200</td>\n",
       "      <td>2.0</td>\n",
       "      <td>51.00</td>\n",
       "    </tr>\n",
       "  </tbody>\n",
       "</table>\n",
       "</div>"
      ],
      "text/plain": [
       "                   location       size total_sqft  bath   price\n",
       "0  Electronic City Phase II      2 BHK       1056   2.0   39.07\n",
       "1          Chikka Tirupathi  4 Bedroom       2600   5.0  120.00\n",
       "2               Uttarahalli      3 BHK       1440   2.0   62.00\n",
       "3        Lingadheeranahalli      3 BHK       1521   3.0   95.00\n",
       "4                  Kothanur      2 BHK       1200   2.0   51.00"
      ]
     },
     "execution_count": 8,
     "metadata": {},
     "output_type": "execute_result"
    }
   ],
   "source": [
    "# We will drop the not imporatant features \n",
    "df2 = df.drop(['area_type','availability','society','balcony'],axis='columns')\n",
    "df2.head()"
   ]
  },
  {
   "cell_type": "markdown",
   "id": "86b7c409",
   "metadata": {
    "papermill": {
     "duration": 0.036713,
     "end_time": "2024-09-14T19:33:46.226199",
     "exception": false,
     "start_time": "2024-09-14T19:33:46.189486",
     "status": "completed"
    },
    "tags": []
   },
   "source": [
    "<div class=\"intro2\">\n",
    "    📌 Summary <br>\n",
    "    <br> ‣ We imported the dataset <br> ‣ we also looked at info\n",
    "    <br> ‣ we also saw the stats of data. and decided that area_type , avaliablity , society , and balacony are not important features in making our predictive model "
   ]
  },
  {
   "cell_type": "markdown",
   "id": "6e7401d0",
   "metadata": {
    "papermill": {
     "duration": 0.036618,
     "end_time": "2024-09-14T19:33:46.300004",
     "exception": false,
     "start_time": "2024-09-14T19:33:46.263386",
     "status": "completed"
    },
    "tags": []
   },
   "source": [
    "# <center> <span style=\"font-family:Playfair Display\"> <span style=\"color:white;display:fill;border-radius:8px;background-color:#a02933;font-size:100%;font-weight: bold;\">ㅤ🔍Exploratory Data Analysisㅤ</span><a id=\"1\"></a> "
   ]
  },
  {
   "cell_type": "markdown",
   "id": "3527242a",
   "metadata": {
    "papermill": {
     "duration": 0.037042,
     "end_time": "2024-09-14T19:33:46.373905",
     "exception": false,
     "start_time": "2024-09-14T19:33:46.336863",
     "status": "completed"
    },
    "tags": []
   },
   "source": [
    "<div class=\"final\" id = \"title\">Data Cleaning</div>\n"
   ]
  },
  {
   "cell_type": "code",
   "execution_count": 9,
   "id": "02260c73",
   "metadata": {
    "execution": {
     "iopub.execute_input": "2024-09-14T19:33:46.451195Z",
     "iopub.status.busy": "2024-09-14T19:33:46.450696Z",
     "iopub.status.idle": "2024-09-14T19:33:46.466658Z",
     "shell.execute_reply": "2024-09-14T19:33:46.465538Z"
    },
    "papermill": {
     "duration": 0.057921,
     "end_time": "2024-09-14T19:33:46.469429",
     "exception": false,
     "start_time": "2024-09-14T19:33:46.411508",
     "status": "completed"
    },
    "tags": []
   },
   "outputs": [
    {
     "data": {
      "text/plain": [
       "location       1\n",
       "size          16\n",
       "total_sqft     0\n",
       "bath          73\n",
       "price          0\n",
       "dtype: int64"
      ]
     },
     "execution_count": 9,
     "metadata": {},
     "output_type": "execute_result"
    }
   ],
   "source": [
    "df2.isnull().sum()"
   ]
  },
  {
   "cell_type": "code",
   "execution_count": 10,
   "id": "2ca18fd7",
   "metadata": {
    "execution": {
     "iopub.execute_input": "2024-09-14T19:33:46.550479Z",
     "iopub.status.busy": "2024-09-14T19:33:46.549999Z",
     "iopub.status.idle": "2024-09-14T19:33:46.573070Z",
     "shell.execute_reply": "2024-09-14T19:33:46.571565Z"
    },
    "papermill": {
     "duration": 0.066464,
     "end_time": "2024-09-14T19:33:46.576156",
     "exception": false,
     "start_time": "2024-09-14T19:33:46.509692",
     "status": "completed"
    },
    "tags": []
   },
   "outputs": [
    {
     "data": {
      "text/plain": [
       "location      0\n",
       "size          0\n",
       "total_sqft    0\n",
       "bath          0\n",
       "price         0\n",
       "dtype: int64"
      ]
     },
     "execution_count": 10,
     "metadata": {},
     "output_type": "execute_result"
    }
   ],
   "source": [
    "df3 = df2.dropna()\n",
    "df3.isnull().sum()"
   ]
  },
  {
   "cell_type": "code",
   "execution_count": 11,
   "id": "6a11f73d",
   "metadata": {
    "execution": {
     "iopub.execute_input": "2024-09-14T19:33:46.738550Z",
     "iopub.status.busy": "2024-09-14T19:33:46.738047Z",
     "iopub.status.idle": "2024-09-14T19:33:46.746201Z",
     "shell.execute_reply": "2024-09-14T19:33:46.744947Z"
    },
    "papermill": {
     "duration": 0.051425,
     "end_time": "2024-09-14T19:33:46.749353",
     "exception": false,
     "start_time": "2024-09-14T19:33:46.697928",
     "status": "completed"
    },
    "tags": []
   },
   "outputs": [
    {
     "data": {
      "text/plain": [
       "(13320, 9)"
      ]
     },
     "execution_count": 11,
     "metadata": {},
     "output_type": "execute_result"
    }
   ],
   "source": [
    "df.shape"
   ]
  },
  {
   "cell_type": "markdown",
   "id": "4c7f4b69",
   "metadata": {
    "execution": {
     "iopub.execute_input": "2024-09-11T19:24:29.075792Z",
     "iopub.status.busy": "2024-09-11T19:24:29.075295Z",
     "iopub.status.idle": "2024-09-11T19:24:29.084285Z",
     "shell.execute_reply": "2024-09-11T19:24:29.082802Z",
     "shell.execute_reply.started": "2024-09-11T19:24:29.075746Z"
    },
    "papermill": {
     "duration": 0.037459,
     "end_time": "2024-09-14T19:33:46.825363",
     "exception": false,
     "start_time": "2024-09-14T19:33:46.787904",
     "status": "completed"
    },
    "tags": []
   },
   "source": [
    "\n",
    "<div class=\"section\">Lets Explore Size Feature , since Some rows have \"2 BHK\" while others are \"4 bedrooms\"</div>"
   ]
  },
  {
   "cell_type": "code",
   "execution_count": 12,
   "id": "3b4dab22",
   "metadata": {
    "execution": {
     "iopub.execute_input": "2024-09-14T19:33:46.904049Z",
     "iopub.status.busy": "2024-09-14T19:33:46.903587Z",
     "iopub.status.idle": "2024-09-14T19:33:46.913104Z",
     "shell.execute_reply": "2024-09-14T19:33:46.911974Z"
    },
    "papermill": {
     "duration": 0.052275,
     "end_time": "2024-09-14T19:33:46.915505",
     "exception": false,
     "start_time": "2024-09-14T19:33:46.863230",
     "status": "completed"
    },
    "tags": []
   },
   "outputs": [
    {
     "data": {
      "text/plain": [
       "array(['2 BHK', '4 Bedroom', '3 BHK', '4 BHK', '6 Bedroom', '3 Bedroom',\n",
       "       '1 BHK', '1 RK', '1 Bedroom', '8 Bedroom', '2 Bedroom',\n",
       "       '7 Bedroom', '5 BHK', '7 BHK', '6 BHK', '5 Bedroom', '11 BHK',\n",
       "       '9 BHK', '9 Bedroom', '27 BHK', '10 Bedroom', '11 Bedroom',\n",
       "       '10 BHK', '19 BHK', '16 BHK', '43 Bedroom', '14 BHK', '8 BHK',\n",
       "       '12 Bedroom', '13 BHK', '18 Bedroom'], dtype=object)"
      ]
     },
     "execution_count": 12,
     "metadata": {},
     "output_type": "execute_result"
    }
   ],
   "source": [
    "df3['size'].unique()"
   ]
  },
  {
   "cell_type": "markdown",
   "id": "94345b6b",
   "metadata": {
    "papermill": {
     "duration": 0.037966,
     "end_time": "2024-09-14T19:33:46.993652",
     "exception": false,
     "start_time": "2024-09-14T19:33:46.955686",
     "status": "completed"
    },
    "tags": []
   },
   "source": [
    "<div class=\"section\">We can notice that \"4 Bedroom\" and \"4 BHK\" are essentially same , i will create a new column called \"BHK\" and this column is created based on size column and we will apply some function to get around this </div>"
   ]
  },
  {
   "cell_type": "code",
   "execution_count": 13,
   "id": "7ab845f3",
   "metadata": {
    "execution": {
     "iopub.execute_input": "2024-09-14T19:33:47.072817Z",
     "iopub.status.busy": "2024-09-14T19:33:47.072340Z",
     "iopub.status.idle": "2024-09-14T19:33:47.095391Z",
     "shell.execute_reply": "2024-09-14T19:33:47.093913Z"
    },
    "papermill": {
     "duration": 0.06598,
     "end_time": "2024-09-14T19:33:47.098278",
     "exception": false,
     "start_time": "2024-09-14T19:33:47.032298",
     "status": "completed"
    },
    "tags": []
   },
   "outputs": [],
   "source": [
    "df3['bhk'] = df3['size'].apply(lambda x: int(x.split(' ')[0]))"
   ]
  },
  {
   "cell_type": "markdown",
   "id": "acd6170e",
   "metadata": {
    "papermill": {
     "duration": 0.037835,
     "end_time": "2024-09-14T19:33:47.175326",
     "exception": false,
     "start_time": "2024-09-14T19:33:47.137491",
     "status": "completed"
    },
    "tags": []
   },
   "source": [
    "<div class=\"section\">The Function was to tockenize the value of \"4 BHK\" and split it using space delimeter and taking the first value which is the number \"4\" and convert it to int </div>"
   ]
  },
  {
   "cell_type": "code",
   "execution_count": 14,
   "id": "f8d0c8a8",
   "metadata": {
    "execution": {
     "iopub.execute_input": "2024-09-14T19:33:47.253608Z",
     "iopub.status.busy": "2024-09-14T19:33:47.253069Z",
     "iopub.status.idle": "2024-09-14T19:33:47.269077Z",
     "shell.execute_reply": "2024-09-14T19:33:47.267832Z"
    },
    "papermill": {
     "duration": 0.058776,
     "end_time": "2024-09-14T19:33:47.272034",
     "exception": false,
     "start_time": "2024-09-14T19:33:47.213258",
     "status": "completed"
    },
    "tags": []
   },
   "outputs": [
    {
     "data": {
      "text/html": [
       "<div>\n",
       "<style scoped>\n",
       "    .dataframe tbody tr th:only-of-type {\n",
       "        vertical-align: middle;\n",
       "    }\n",
       "\n",
       "    .dataframe tbody tr th {\n",
       "        vertical-align: top;\n",
       "    }\n",
       "\n",
       "    .dataframe thead th {\n",
       "        text-align: right;\n",
       "    }\n",
       "</style>\n",
       "<table border=\"1\" class=\"dataframe\">\n",
       "  <thead>\n",
       "    <tr style=\"text-align: right;\">\n",
       "      <th></th>\n",
       "      <th>location</th>\n",
       "      <th>size</th>\n",
       "      <th>total_sqft</th>\n",
       "      <th>bath</th>\n",
       "      <th>price</th>\n",
       "      <th>bhk</th>\n",
       "    </tr>\n",
       "  </thead>\n",
       "  <tbody>\n",
       "    <tr>\n",
       "      <th>0</th>\n",
       "      <td>Electronic City Phase II</td>\n",
       "      <td>2 BHK</td>\n",
       "      <td>1056</td>\n",
       "      <td>2.0</td>\n",
       "      <td>39.07</td>\n",
       "      <td>2</td>\n",
       "    </tr>\n",
       "    <tr>\n",
       "      <th>1</th>\n",
       "      <td>Chikka Tirupathi</td>\n",
       "      <td>4 Bedroom</td>\n",
       "      <td>2600</td>\n",
       "      <td>5.0</td>\n",
       "      <td>120.00</td>\n",
       "      <td>4</td>\n",
       "    </tr>\n",
       "    <tr>\n",
       "      <th>2</th>\n",
       "      <td>Uttarahalli</td>\n",
       "      <td>3 BHK</td>\n",
       "      <td>1440</td>\n",
       "      <td>2.0</td>\n",
       "      <td>62.00</td>\n",
       "      <td>3</td>\n",
       "    </tr>\n",
       "    <tr>\n",
       "      <th>3</th>\n",
       "      <td>Lingadheeranahalli</td>\n",
       "      <td>3 BHK</td>\n",
       "      <td>1521</td>\n",
       "      <td>3.0</td>\n",
       "      <td>95.00</td>\n",
       "      <td>3</td>\n",
       "    </tr>\n",
       "    <tr>\n",
       "      <th>4</th>\n",
       "      <td>Kothanur</td>\n",
       "      <td>2 BHK</td>\n",
       "      <td>1200</td>\n",
       "      <td>2.0</td>\n",
       "      <td>51.00</td>\n",
       "      <td>2</td>\n",
       "    </tr>\n",
       "  </tbody>\n",
       "</table>\n",
       "</div>"
      ],
      "text/plain": [
       "                   location       size total_sqft  bath   price  bhk\n",
       "0  Electronic City Phase II      2 BHK       1056   2.0   39.07    2\n",
       "1          Chikka Tirupathi  4 Bedroom       2600   5.0  120.00    4\n",
       "2               Uttarahalli      3 BHK       1440   2.0   62.00    3\n",
       "3        Lingadheeranahalli      3 BHK       1521   3.0   95.00    3\n",
       "4                  Kothanur      2 BHK       1200   2.0   51.00    2"
      ]
     },
     "execution_count": 14,
     "metadata": {},
     "output_type": "execute_result"
    }
   ],
   "source": [
    "df3.head()"
   ]
  },
  {
   "cell_type": "code",
   "execution_count": 15,
   "id": "48320420",
   "metadata": {
    "execution": {
     "iopub.execute_input": "2024-09-14T19:33:47.354157Z",
     "iopub.status.busy": "2024-09-14T19:33:47.352763Z",
     "iopub.status.idle": "2024-09-14T19:33:47.364139Z",
     "shell.execute_reply": "2024-09-14T19:33:47.362756Z"
    },
    "papermill": {
     "duration": 0.055625,
     "end_time": "2024-09-14T19:33:47.366733",
     "exception": false,
     "start_time": "2024-09-14T19:33:47.311108",
     "status": "completed"
    },
    "tags": []
   },
   "outputs": [
    {
     "data": {
      "text/plain": [
       "array([ 2,  4,  3,  6,  1,  8,  7,  5, 11,  9, 27, 10, 19, 16, 43, 14, 12,\n",
       "       13, 18])"
      ]
     },
     "execution_count": 15,
     "metadata": {},
     "output_type": "execute_result"
    }
   ],
   "source": [
    "df3['bhk'].unique()"
   ]
  },
  {
   "cell_type": "code",
   "execution_count": 16,
   "id": "94bb71e8",
   "metadata": {
    "execution": {
     "iopub.execute_input": "2024-09-14T19:33:47.445814Z",
     "iopub.status.busy": "2024-09-14T19:33:47.445366Z",
     "iopub.status.idle": "2024-09-14T19:33:47.461576Z",
     "shell.execute_reply": "2024-09-14T19:33:47.460275Z"
    },
    "papermill": {
     "duration": 0.05882,
     "end_time": "2024-09-14T19:33:47.464241",
     "exception": false,
     "start_time": "2024-09-14T19:33:47.405421",
     "status": "completed"
    },
    "tags": []
   },
   "outputs": [
    {
     "data": {
      "text/html": [
       "<div>\n",
       "<style scoped>\n",
       "    .dataframe tbody tr th:only-of-type {\n",
       "        vertical-align: middle;\n",
       "    }\n",
       "\n",
       "    .dataframe tbody tr th {\n",
       "        vertical-align: top;\n",
       "    }\n",
       "\n",
       "    .dataframe thead th {\n",
       "        text-align: right;\n",
       "    }\n",
       "</style>\n",
       "<table border=\"1\" class=\"dataframe\">\n",
       "  <thead>\n",
       "    <tr style=\"text-align: right;\">\n",
       "      <th></th>\n",
       "      <th>location</th>\n",
       "      <th>size</th>\n",
       "      <th>total_sqft</th>\n",
       "      <th>bath</th>\n",
       "      <th>price</th>\n",
       "      <th>bhk</th>\n",
       "    </tr>\n",
       "  </thead>\n",
       "  <tbody>\n",
       "    <tr>\n",
       "      <th>1718</th>\n",
       "      <td>2Electronic City Phase II</td>\n",
       "      <td>27 BHK</td>\n",
       "      <td>8000</td>\n",
       "      <td>27.0</td>\n",
       "      <td>230.0</td>\n",
       "      <td>27</td>\n",
       "    </tr>\n",
       "    <tr>\n",
       "      <th>4684</th>\n",
       "      <td>Munnekollal</td>\n",
       "      <td>43 Bedroom</td>\n",
       "      <td>2400</td>\n",
       "      <td>40.0</td>\n",
       "      <td>660.0</td>\n",
       "      <td>43</td>\n",
       "    </tr>\n",
       "  </tbody>\n",
       "</table>\n",
       "</div>"
      ],
      "text/plain": [
       "                       location        size total_sqft  bath  price  bhk\n",
       "1718  2Electronic City Phase II      27 BHK       8000  27.0  230.0   27\n",
       "4684                Munnekollal  43 Bedroom       2400  40.0  660.0   43"
      ]
     },
     "execution_count": 16,
     "metadata": {},
     "output_type": "execute_result"
    }
   ],
   "source": [
    "df3[df3['bhk']>20]"
   ]
  },
  {
   "cell_type": "markdown",
   "id": "0acc46e2",
   "metadata": {
    "papermill": {
     "duration": 0.038197,
     "end_time": "2024-09-14T19:33:47.540826",
     "exception": false,
     "start_time": "2024-09-14T19:33:47.502629",
     "status": "completed"
    },
    "tags": []
   },
   "source": [
    "<div class=\"section\"> mmmm. something does not look right , 43 bedrooms with total sqft of 2400 doesnt make sense....we will look into that later </div>"
   ]
  },
  {
   "cell_type": "markdown",
   "id": "13364ea1",
   "metadata": {
    "papermill": {
     "duration": 0.038005,
     "end_time": "2024-09-14T19:33:47.617110",
     "exception": false,
     "start_time": "2024-09-14T19:33:47.579105",
     "status": "completed"
    },
    "tags": []
   },
   "source": [
    "<div class=\"section\">some of total_sqft have integral ranges values rather than just a number like \"1300-1400\" </div>"
   ]
  },
  {
   "cell_type": "code",
   "execution_count": 17,
   "id": "00e93c72",
   "metadata": {
    "execution": {
     "iopub.execute_input": "2024-09-14T19:33:47.696193Z",
     "iopub.status.busy": "2024-09-14T19:33:47.695784Z",
     "iopub.status.idle": "2024-09-14T19:33:47.701779Z",
     "shell.execute_reply": "2024-09-14T19:33:47.700561Z"
    },
    "papermill": {
     "duration": 0.048321,
     "end_time": "2024-09-14T19:33:47.704214",
     "exception": false,
     "start_time": "2024-09-14T19:33:47.655893",
     "status": "completed"
    },
    "tags": []
   },
   "outputs": [],
   "source": [
    "def is_float(x):\n",
    "    try:\n",
    "        float(x)\n",
    "    except:\n",
    "        return False\n",
    "    return True"
   ]
  },
  {
   "cell_type": "code",
   "execution_count": 18,
   "id": "9d2ec350",
   "metadata": {
    "execution": {
     "iopub.execute_input": "2024-09-14T19:33:47.785988Z",
     "iopub.status.busy": "2024-09-14T19:33:47.784645Z",
     "iopub.status.idle": "2024-09-14T19:33:47.810829Z",
     "shell.execute_reply": "2024-09-14T19:33:47.809675Z"
    },
    "papermill": {
     "duration": 0.069583,
     "end_time": "2024-09-14T19:33:47.813303",
     "exception": false,
     "start_time": "2024-09-14T19:33:47.743720",
     "status": "completed"
    },
    "tags": []
   },
   "outputs": [
    {
     "data": {
      "text/html": [
       "<div>\n",
       "<style scoped>\n",
       "    .dataframe tbody tr th:only-of-type {\n",
       "        vertical-align: middle;\n",
       "    }\n",
       "\n",
       "    .dataframe tbody tr th {\n",
       "        vertical-align: top;\n",
       "    }\n",
       "\n",
       "    .dataframe thead th {\n",
       "        text-align: right;\n",
       "    }\n",
       "</style>\n",
       "<table border=\"1\" class=\"dataframe\">\n",
       "  <thead>\n",
       "    <tr style=\"text-align: right;\">\n",
       "      <th></th>\n",
       "      <th>location</th>\n",
       "      <th>size</th>\n",
       "      <th>total_sqft</th>\n",
       "      <th>bath</th>\n",
       "      <th>price</th>\n",
       "      <th>bhk</th>\n",
       "    </tr>\n",
       "  </thead>\n",
       "  <tbody>\n",
       "    <tr>\n",
       "      <th>30</th>\n",
       "      <td>Yelahanka</td>\n",
       "      <td>4 BHK</td>\n",
       "      <td>2100 - 2850</td>\n",
       "      <td>4.0</td>\n",
       "      <td>186.000</td>\n",
       "      <td>4</td>\n",
       "    </tr>\n",
       "    <tr>\n",
       "      <th>122</th>\n",
       "      <td>Hebbal</td>\n",
       "      <td>4 BHK</td>\n",
       "      <td>3067 - 8156</td>\n",
       "      <td>4.0</td>\n",
       "      <td>477.000</td>\n",
       "      <td>4</td>\n",
       "    </tr>\n",
       "    <tr>\n",
       "      <th>137</th>\n",
       "      <td>8th Phase JP Nagar</td>\n",
       "      <td>2 BHK</td>\n",
       "      <td>1042 - 1105</td>\n",
       "      <td>2.0</td>\n",
       "      <td>54.005</td>\n",
       "      <td>2</td>\n",
       "    </tr>\n",
       "    <tr>\n",
       "      <th>165</th>\n",
       "      <td>Sarjapur</td>\n",
       "      <td>2 BHK</td>\n",
       "      <td>1145 - 1340</td>\n",
       "      <td>2.0</td>\n",
       "      <td>43.490</td>\n",
       "      <td>2</td>\n",
       "    </tr>\n",
       "    <tr>\n",
       "      <th>188</th>\n",
       "      <td>KR Puram</td>\n",
       "      <td>2 BHK</td>\n",
       "      <td>1015 - 1540</td>\n",
       "      <td>2.0</td>\n",
       "      <td>56.800</td>\n",
       "      <td>2</td>\n",
       "    </tr>\n",
       "    <tr>\n",
       "      <th>410</th>\n",
       "      <td>Kengeri</td>\n",
       "      <td>1 BHK</td>\n",
       "      <td>34.46Sq. Meter</td>\n",
       "      <td>1.0</td>\n",
       "      <td>18.500</td>\n",
       "      <td>1</td>\n",
       "    </tr>\n",
       "    <tr>\n",
       "      <th>549</th>\n",
       "      <td>Hennur Road</td>\n",
       "      <td>2 BHK</td>\n",
       "      <td>1195 - 1440</td>\n",
       "      <td>2.0</td>\n",
       "      <td>63.770</td>\n",
       "      <td>2</td>\n",
       "    </tr>\n",
       "    <tr>\n",
       "      <th>648</th>\n",
       "      <td>Arekere</td>\n",
       "      <td>9 Bedroom</td>\n",
       "      <td>4125Perch</td>\n",
       "      <td>9.0</td>\n",
       "      <td>265.000</td>\n",
       "      <td>9</td>\n",
       "    </tr>\n",
       "    <tr>\n",
       "      <th>661</th>\n",
       "      <td>Yelahanka</td>\n",
       "      <td>2 BHK</td>\n",
       "      <td>1120 - 1145</td>\n",
       "      <td>2.0</td>\n",
       "      <td>48.130</td>\n",
       "      <td>2</td>\n",
       "    </tr>\n",
       "    <tr>\n",
       "      <th>672</th>\n",
       "      <td>Bettahalsoor</td>\n",
       "      <td>4 Bedroom</td>\n",
       "      <td>3090 - 5002</td>\n",
       "      <td>4.0</td>\n",
       "      <td>445.000</td>\n",
       "      <td>4</td>\n",
       "    </tr>\n",
       "  </tbody>\n",
       "</table>\n",
       "</div>"
      ],
      "text/plain": [
       "               location       size      total_sqft  bath    price  bhk\n",
       "30            Yelahanka      4 BHK     2100 - 2850   4.0  186.000    4\n",
       "122              Hebbal      4 BHK     3067 - 8156   4.0  477.000    4\n",
       "137  8th Phase JP Nagar      2 BHK     1042 - 1105   2.0   54.005    2\n",
       "165            Sarjapur      2 BHK     1145 - 1340   2.0   43.490    2\n",
       "188            KR Puram      2 BHK     1015 - 1540   2.0   56.800    2\n",
       "410             Kengeri      1 BHK  34.46Sq. Meter   1.0   18.500    1\n",
       "549         Hennur Road      2 BHK     1195 - 1440   2.0   63.770    2\n",
       "648             Arekere  9 Bedroom       4125Perch   9.0  265.000    9\n",
       "661           Yelahanka      2 BHK     1120 - 1145   2.0   48.130    2\n",
       "672        Bettahalsoor  4 Bedroom     3090 - 5002   4.0  445.000    4"
      ]
     },
     "execution_count": 18,
     "metadata": {},
     "output_type": "execute_result"
    }
   ],
   "source": [
    "df3[~df3['total_sqft'].apply(is_float)].head(10)"
   ]
  },
  {
   "cell_type": "markdown",
   "id": "5e0cf5ca",
   "metadata": {
    "papermill": {
     "duration": 0.0392,
     "end_time": "2024-09-14T19:33:47.891306",
     "exception": false,
     "start_time": "2024-09-14T19:33:47.852106",
     "status": "completed"
    },
    "tags": []
   },
   "source": [
    "Also there is a cases like this \"34.46Sq. Meter\" or \"4125Perch\" this means that the data is not unified by 1 metric unit + the intergal ranges thing <div class=\"section\">So Lets Clean That </div>"
   ]
  },
  {
   "cell_type": "markdown",
   "id": "02fb1bdc",
   "metadata": {
    "papermill": {
     "duration": 0.040071,
     "end_time": "2024-09-14T19:33:47.970862",
     "exception": false,
     "start_time": "2024-09-14T19:33:47.930791",
     "status": "completed"
    },
    "tags": []
   },
   "source": [
    "**First the Range issue , anytime we have a range , i will take the average between those numbers**"
   ]
  },
  {
   "cell_type": "code",
   "execution_count": 19,
   "id": "e47818e6",
   "metadata": {
    "execution": {
     "iopub.execute_input": "2024-09-14T19:33:48.051512Z",
     "iopub.status.busy": "2024-09-14T19:33:48.050444Z",
     "iopub.status.idle": "2024-09-14T19:33:48.057521Z",
     "shell.execute_reply": "2024-09-14T19:33:48.056404Z"
    },
    "papermill": {
     "duration": 0.050124,
     "end_time": "2024-09-14T19:33:48.059866",
     "exception": false,
     "start_time": "2024-09-14T19:33:48.009742",
     "status": "completed"
    },
    "tags": []
   },
   "outputs": [],
   "source": [
    "def convert_sqft_to_num(x):\n",
    "    tokens = x.split('-')\n",
    "    if len(tokens)== 2:\n",
    "        return(float(tokens[0])+float(tokens[1]))/2 \n",
    "    try:\n",
    "        return float(x)\n",
    "    except:\n",
    "        return None"
   ]
  },
  {
   "cell_type": "code",
   "execution_count": 20,
   "id": "da49ba45",
   "metadata": {
    "execution": {
     "iopub.execute_input": "2024-09-14T19:33:48.140553Z",
     "iopub.status.busy": "2024-09-14T19:33:48.139417Z",
     "iopub.status.idle": "2024-09-14T19:33:48.146632Z",
     "shell.execute_reply": "2024-09-14T19:33:48.145525Z"
    },
    "papermill": {
     "duration": 0.050572,
     "end_time": "2024-09-14T19:33:48.149168",
     "exception": false,
     "start_time": "2024-09-14T19:33:48.098596",
     "status": "completed"
    },
    "tags": []
   },
   "outputs": [
    {
     "name": "stdout",
     "output_type": "stream",
     "text": [
      "1123.0\n",
      "5611.5\n",
      "None\n"
     ]
    }
   ],
   "source": [
    "# Lets Test this function \n",
    "print(convert_sqft_to_num('1123'))\n",
    "print(convert_sqft_to_num('3067 - 8156'))\n",
    "print(convert_sqft_to_num('34.46Sq. Meter'))"
   ]
  },
  {
   "cell_type": "code",
   "execution_count": 21,
   "id": "facc4b7b",
   "metadata": {
    "execution": {
     "iopub.execute_input": "2024-09-14T19:33:48.233600Z",
     "iopub.status.busy": "2024-09-14T19:33:48.233118Z",
     "iopub.status.idle": "2024-09-14T19:33:48.264330Z",
     "shell.execute_reply": "2024-09-14T19:33:48.262934Z"
    },
    "papermill": {
     "duration": 0.077587,
     "end_time": "2024-09-14T19:33:48.267239",
     "exception": false,
     "start_time": "2024-09-14T19:33:48.189652",
     "status": "completed"
    },
    "tags": []
   },
   "outputs": [
    {
     "data": {
      "text/html": [
       "<div>\n",
       "<style scoped>\n",
       "    .dataframe tbody tr th:only-of-type {\n",
       "        vertical-align: middle;\n",
       "    }\n",
       "\n",
       "    .dataframe tbody tr th {\n",
       "        vertical-align: top;\n",
       "    }\n",
       "\n",
       "    .dataframe thead th {\n",
       "        text-align: right;\n",
       "    }\n",
       "</style>\n",
       "<table border=\"1\" class=\"dataframe\">\n",
       "  <thead>\n",
       "    <tr style=\"text-align: right;\">\n",
       "      <th></th>\n",
       "      <th>location</th>\n",
       "      <th>size</th>\n",
       "      <th>total_sqft</th>\n",
       "      <th>bath</th>\n",
       "      <th>price</th>\n",
       "      <th>bhk</th>\n",
       "    </tr>\n",
       "  </thead>\n",
       "  <tbody>\n",
       "    <tr>\n",
       "      <th>0</th>\n",
       "      <td>Electronic City Phase II</td>\n",
       "      <td>2 BHK</td>\n",
       "      <td>1056.0</td>\n",
       "      <td>2.0</td>\n",
       "      <td>39.07</td>\n",
       "      <td>2</td>\n",
       "    </tr>\n",
       "    <tr>\n",
       "      <th>1</th>\n",
       "      <td>Chikka Tirupathi</td>\n",
       "      <td>4 Bedroom</td>\n",
       "      <td>2600.0</td>\n",
       "      <td>5.0</td>\n",
       "      <td>120.00</td>\n",
       "      <td>4</td>\n",
       "    </tr>\n",
       "    <tr>\n",
       "      <th>2</th>\n",
       "      <td>Uttarahalli</td>\n",
       "      <td>3 BHK</td>\n",
       "      <td>1440.0</td>\n",
       "      <td>2.0</td>\n",
       "      <td>62.00</td>\n",
       "      <td>3</td>\n",
       "    </tr>\n",
       "    <tr>\n",
       "      <th>3</th>\n",
       "      <td>Lingadheeranahalli</td>\n",
       "      <td>3 BHK</td>\n",
       "      <td>1521.0</td>\n",
       "      <td>3.0</td>\n",
       "      <td>95.00</td>\n",
       "      <td>3</td>\n",
       "    </tr>\n",
       "    <tr>\n",
       "      <th>4</th>\n",
       "      <td>Kothanur</td>\n",
       "      <td>2 BHK</td>\n",
       "      <td>1200.0</td>\n",
       "      <td>2.0</td>\n",
       "      <td>51.00</td>\n",
       "      <td>2</td>\n",
       "    </tr>\n",
       "  </tbody>\n",
       "</table>\n",
       "</div>"
      ],
      "text/plain": [
       "                   location       size  total_sqft  bath   price  bhk\n",
       "0  Electronic City Phase II      2 BHK      1056.0   2.0   39.07    2\n",
       "1          Chikka Tirupathi  4 Bedroom      2600.0   5.0  120.00    4\n",
       "2               Uttarahalli      3 BHK      1440.0   2.0   62.00    3\n",
       "3        Lingadheeranahalli      3 BHK      1521.0   3.0   95.00    3\n",
       "4                  Kothanur      2 BHK      1200.0   2.0   51.00    2"
      ]
     },
     "execution_count": 21,
     "metadata": {},
     "output_type": "execute_result"
    }
   ],
   "source": [
    "df4 = df3.copy()\n",
    "df4['total_sqft'] = df4['total_sqft'].apply(convert_sqft_to_num)\n",
    "df4.head()"
   ]
  },
  {
   "cell_type": "markdown",
   "id": "b0a748dd",
   "metadata": {
    "papermill": {
     "duration": 0.040396,
     "end_time": "2024-09-14T19:33:48.348154",
     "exception": false,
     "start_time": "2024-09-14T19:33:48.307758",
     "status": "completed"
    },
    "tags": []
   },
   "source": [
    "**Lets Check if the issue was solved**"
   ]
  },
  {
   "cell_type": "code",
   "execution_count": 22,
   "id": "b0f6c7a6",
   "metadata": {
    "execution": {
     "iopub.execute_input": "2024-09-14T19:33:48.431724Z",
     "iopub.status.busy": "2024-09-14T19:33:48.430767Z",
     "iopub.status.idle": "2024-09-14T19:33:48.439292Z",
     "shell.execute_reply": "2024-09-14T19:33:48.438138Z"
    },
    "papermill": {
     "duration": 0.053518,
     "end_time": "2024-09-14T19:33:48.441822",
     "exception": false,
     "start_time": "2024-09-14T19:33:48.388304",
     "status": "completed"
    },
    "tags": []
   },
   "outputs": [
    {
     "name": "stdout",
     "output_type": "stream",
     "text": [
      "Before Solving: \n",
      " location        Yelahanka\n",
      "size                4 BHK\n",
      "total_sqft    2100 - 2850\n",
      "bath                  4.0\n",
      "price               186.0\n",
      "bhk                     4\n",
      "Name: 30, dtype: object\n",
      "After Solving \n",
      " location      Yelahanka\n",
      "size              4 BHK\n",
      "total_sqft       2475.0\n",
      "bath                4.0\n",
      "price             186.0\n",
      "bhk                   4\n",
      "Name: 30, dtype: object\n"
     ]
    }
   ],
   "source": [
    "print(\"Before Solving: \\n\",df3.loc[30])\n",
    "print(\"After Solving \\n\",df4.loc[30])"
   ]
  },
  {
   "cell_type": "markdown",
   "id": "7b141813",
   "metadata": {
    "papermill": {
     "duration": 0.040096,
     "end_time": "2024-09-14T19:33:48.522156",
     "exception": false,
     "start_time": "2024-09-14T19:33:48.482060",
     "status": "completed"
    },
    "tags": []
   },
   "source": [
    "**For The Measure unit we have two approaches , first we convert the meter or perch to square feet or second we can just ignor these rows , in this project I will just ignore them**"
   ]
  },
  {
   "cell_type": "code",
   "execution_count": 23,
   "id": "ecf3e0f9",
   "metadata": {
    "execution": {
     "iopub.execute_input": "2024-09-14T19:33:48.605431Z",
     "iopub.status.busy": "2024-09-14T19:33:48.604244Z",
     "iopub.status.idle": "2024-09-14T19:33:48.612233Z",
     "shell.execute_reply": "2024-09-14T19:33:48.611147Z"
    },
    "papermill": {
     "duration": 0.052266,
     "end_time": "2024-09-14T19:33:48.614943",
     "exception": false,
     "start_time": "2024-09-14T19:33:48.562677",
     "status": "completed"
    },
    "tags": []
   },
   "outputs": [
    {
     "name": "stdout",
     "output_type": "stream",
     "text": [
      "location             Kengeri\n",
      "size                   1 BHK\n",
      "total_sqft    34.46Sq. Meter\n",
      "bath                     1.0\n",
      "price                   18.5\n",
      "bhk                        1\n",
      "Name: 410, dtype: object\n",
      "location      Kengeri\n",
      "size            1 BHK\n",
      "total_sqft        NaN\n",
      "bath              1.0\n",
      "price            18.5\n",
      "bhk                 1\n",
      "Name: 410, dtype: object\n"
     ]
    }
   ],
   "source": [
    "print(df3.loc[410])\n",
    "print(df4.loc[410])"
   ]
  },
  {
   "cell_type": "markdown",
   "id": "4daedb07",
   "metadata": {
    "papermill": {
     "duration": 0.040309,
     "end_time": "2024-09-14T19:33:48.695843",
     "exception": false,
     "start_time": "2024-09-14T19:33:48.655534",
     "status": "completed"
    },
    "tags": []
   },
   "source": [
    "<div class=\"final\" id = \"title\">Feature Engineering</div>"
   ]
  },
  {
   "cell_type": "markdown",
   "id": "675563b0",
   "metadata": {
    "papermill": {
     "duration": 0.040395,
     "end_time": "2024-09-14T19:33:48.778916",
     "exception": false,
     "start_time": "2024-09-14T19:33:48.738521",
     "status": "completed"
    },
    "tags": []
   },
   "source": [
    "<div class=\"section\"> We all know in real estate market , the price per square feet is very important , so we will create a new feature which can be helpfull for outlier detection</div>"
   ]
  },
  {
   "cell_type": "code",
   "execution_count": 24,
   "id": "26ea21e7",
   "metadata": {
    "execution": {
     "iopub.execute_input": "2024-09-14T19:33:48.861953Z",
     "iopub.status.busy": "2024-09-14T19:33:48.861447Z",
     "iopub.status.idle": "2024-09-14T19:33:48.883024Z",
     "shell.execute_reply": "2024-09-14T19:33:48.881569Z"
    },
    "papermill": {
     "duration": 0.065892,
     "end_time": "2024-09-14T19:33:48.885613",
     "exception": false,
     "start_time": "2024-09-14T19:33:48.819721",
     "status": "completed"
    },
    "tags": []
   },
   "outputs": [
    {
     "data": {
      "text/html": [
       "<div>\n",
       "<style scoped>\n",
       "    .dataframe tbody tr th:only-of-type {\n",
       "        vertical-align: middle;\n",
       "    }\n",
       "\n",
       "    .dataframe tbody tr th {\n",
       "        vertical-align: top;\n",
       "    }\n",
       "\n",
       "    .dataframe thead th {\n",
       "        text-align: right;\n",
       "    }\n",
       "</style>\n",
       "<table border=\"1\" class=\"dataframe\">\n",
       "  <thead>\n",
       "    <tr style=\"text-align: right;\">\n",
       "      <th></th>\n",
       "      <th>location</th>\n",
       "      <th>size</th>\n",
       "      <th>total_sqft</th>\n",
       "      <th>bath</th>\n",
       "      <th>price</th>\n",
       "      <th>bhk</th>\n",
       "      <th>price_per_sqft</th>\n",
       "    </tr>\n",
       "  </thead>\n",
       "  <tbody>\n",
       "    <tr>\n",
       "      <th>0</th>\n",
       "      <td>Electronic City Phase II</td>\n",
       "      <td>2 BHK</td>\n",
       "      <td>1056.0</td>\n",
       "      <td>2.0</td>\n",
       "      <td>39.07</td>\n",
       "      <td>2</td>\n",
       "      <td>3699.810606</td>\n",
       "    </tr>\n",
       "    <tr>\n",
       "      <th>1</th>\n",
       "      <td>Chikka Tirupathi</td>\n",
       "      <td>4 Bedroom</td>\n",
       "      <td>2600.0</td>\n",
       "      <td>5.0</td>\n",
       "      <td>120.00</td>\n",
       "      <td>4</td>\n",
       "      <td>4615.384615</td>\n",
       "    </tr>\n",
       "    <tr>\n",
       "      <th>2</th>\n",
       "      <td>Uttarahalli</td>\n",
       "      <td>3 BHK</td>\n",
       "      <td>1440.0</td>\n",
       "      <td>2.0</td>\n",
       "      <td>62.00</td>\n",
       "      <td>3</td>\n",
       "      <td>4305.555556</td>\n",
       "    </tr>\n",
       "    <tr>\n",
       "      <th>3</th>\n",
       "      <td>Lingadheeranahalli</td>\n",
       "      <td>3 BHK</td>\n",
       "      <td>1521.0</td>\n",
       "      <td>3.0</td>\n",
       "      <td>95.00</td>\n",
       "      <td>3</td>\n",
       "      <td>6245.890861</td>\n",
       "    </tr>\n",
       "    <tr>\n",
       "      <th>4</th>\n",
       "      <td>Kothanur</td>\n",
       "      <td>2 BHK</td>\n",
       "      <td>1200.0</td>\n",
       "      <td>2.0</td>\n",
       "      <td>51.00</td>\n",
       "      <td>2</td>\n",
       "      <td>4250.000000</td>\n",
       "    </tr>\n",
       "  </tbody>\n",
       "</table>\n",
       "</div>"
      ],
      "text/plain": [
       "                   location       size  total_sqft  bath   price  bhk  \\\n",
       "0  Electronic City Phase II      2 BHK      1056.0   2.0   39.07    2   \n",
       "1          Chikka Tirupathi  4 Bedroom      2600.0   5.0  120.00    4   \n",
       "2               Uttarahalli      3 BHK      1440.0   2.0   62.00    3   \n",
       "3        Lingadheeranahalli      3 BHK      1521.0   3.0   95.00    3   \n",
       "4                  Kothanur      2 BHK      1200.0   2.0   51.00    2   \n",
       "\n",
       "   price_per_sqft  \n",
       "0     3699.810606  \n",
       "1     4615.384615  \n",
       "2     4305.555556  \n",
       "3     6245.890861  \n",
       "4     4250.000000  "
      ]
     },
     "execution_count": 24,
     "metadata": {},
     "output_type": "execute_result"
    }
   ],
   "source": [
    "df5 = df4.copy()\n",
    "df5['price_per_sqft'] = df5['price']*100000/df5['total_sqft']\n",
    "df5.head()"
   ]
  },
  {
   "cell_type": "markdown",
   "id": "06cb2672",
   "metadata": {
    "papermill": {
     "duration": 0.041423,
     "end_time": "2024-09-14T19:33:48.966856",
     "exception": false,
     "start_time": "2024-09-14T19:33:48.925433",
     "status": "completed"
    },
    "tags": []
   },
   "source": [
    "<div class=\"section\">Now Lets Explore On the location , lets see how many location there and how many rows are in the dataset</div>"
   ]
  },
  {
   "cell_type": "code",
   "execution_count": 25,
   "id": "a8712a6f",
   "metadata": {
    "execution": {
     "iopub.execute_input": "2024-09-14T19:33:49.050069Z",
     "iopub.status.busy": "2024-09-14T19:33:49.048625Z",
     "iopub.status.idle": "2024-09-14T19:33:49.059991Z",
     "shell.execute_reply": "2024-09-14T19:33:49.058680Z"
    },
    "papermill": {
     "duration": 0.055551,
     "end_time": "2024-09-14T19:33:49.062415",
     "exception": false,
     "start_time": "2024-09-14T19:33:49.006864",
     "status": "completed"
    },
    "tags": []
   },
   "outputs": [
    {
     "data": {
      "text/plain": [
       "array(['Electronic City Phase II', 'Chikka Tirupathi', 'Uttarahalli', ...,\n",
       "       '12th cross srinivas nagar banshankari 3rd stage',\n",
       "       'Havanur extension', 'Abshot Layout'], dtype=object)"
      ]
     },
     "execution_count": 25,
     "metadata": {},
     "output_type": "execute_result"
    }
   ],
   "source": [
    "df5.location.unique()"
   ]
  },
  {
   "cell_type": "code",
   "execution_count": 26,
   "id": "52d3d690",
   "metadata": {
    "execution": {
     "iopub.execute_input": "2024-09-14T19:33:49.146670Z",
     "iopub.status.busy": "2024-09-14T19:33:49.145619Z",
     "iopub.status.idle": "2024-09-14T19:33:49.155192Z",
     "shell.execute_reply": "2024-09-14T19:33:49.154056Z"
    },
    "papermill": {
     "duration": 0.054379,
     "end_time": "2024-09-14T19:33:49.157598",
     "exception": false,
     "start_time": "2024-09-14T19:33:49.103219",
     "status": "completed"
    },
    "tags": []
   },
   "outputs": [
    {
     "data": {
      "text/plain": [
       "1304"
      ]
     },
     "execution_count": 26,
     "metadata": {},
     "output_type": "execute_result"
    }
   ],
   "source": [
    "len(df5.location.unique())"
   ]
  },
  {
   "cell_type": "code",
   "execution_count": 27,
   "id": "d9510378",
   "metadata": {
    "execution": {
     "iopub.execute_input": "2024-09-14T19:33:49.239588Z",
     "iopub.status.busy": "2024-09-14T19:33:49.239095Z",
     "iopub.status.idle": "2024-09-14T19:33:49.265136Z",
     "shell.execute_reply": "2024-09-14T19:33:49.263843Z"
    },
    "papermill": {
     "duration": 0.07074,
     "end_time": "2024-09-14T19:33:49.267957",
     "exception": false,
     "start_time": "2024-09-14T19:33:49.197217",
     "status": "completed"
    },
    "tags": []
   },
   "outputs": [
    {
     "data": {
      "text/plain": [
       "location\n",
       "Whitefield               535\n",
       "Sarjapur  Road           392\n",
       "Electronic City          304\n",
       "Kanakpura Road           266\n",
       "Thanisandra              236\n",
       "                        ... \n",
       "1 Giri Nagar               1\n",
       "Kanakapura Road,           1\n",
       "Kanakapura main  Road      1\n",
       "Karnataka Shabarimala      1\n",
       "whitefiled                 1\n",
       "Name: location, Length: 1293, dtype: int64"
      ]
     },
     "execution_count": 27,
     "metadata": {},
     "output_type": "execute_result"
    }
   ],
   "source": [
    "df5.location = df5.location.apply(lambda x : x.strip())\n",
    "location_stats = df5.groupby('location')['location'].agg('count').sort_values(ascending=False)\n",
    "location_stats"
   ]
  },
  {
   "cell_type": "markdown",
   "id": "a1df95c8",
   "metadata": {
    "papermill": {
     "duration": 0.040225,
     "end_time": "2024-09-14T19:33:49.348871",
     "exception": false,
     "start_time": "2024-09-14T19:33:49.308646",
     "status": "completed"
    },
    "tags": []
   },
   "source": [
    "**So Lets shrink our location data by making any location which has less 10 data point be categorized in general category called other location**"
   ]
  },
  {
   "cell_type": "code",
   "execution_count": 28,
   "id": "38b9dc66",
   "metadata": {
    "execution": {
     "iopub.execute_input": "2024-09-14T19:33:49.432849Z",
     "iopub.status.busy": "2024-09-14T19:33:49.431550Z",
     "iopub.status.idle": "2024-09-14T19:33:49.440904Z",
     "shell.execute_reply": "2024-09-14T19:33:49.439530Z"
    },
    "papermill": {
     "duration": 0.054249,
     "end_time": "2024-09-14T19:33:49.443310",
     "exception": false,
     "start_time": "2024-09-14T19:33:49.389061",
     "status": "completed"
    },
    "tags": []
   },
   "outputs": [
    {
     "data": {
      "text/plain": [
       "1052"
      ]
     },
     "execution_count": 28,
     "metadata": {},
     "output_type": "execute_result"
    }
   ],
   "source": [
    "len(location_stats[location_stats<=10])"
   ]
  },
  {
   "cell_type": "code",
   "execution_count": 29,
   "id": "b2fa5ebf",
   "metadata": {
    "execution": {
     "iopub.execute_input": "2024-09-14T19:33:49.525914Z",
     "iopub.status.busy": "2024-09-14T19:33:49.525360Z",
     "iopub.status.idle": "2024-09-14T19:33:49.536717Z",
     "shell.execute_reply": "2024-09-14T19:33:49.535364Z"
    },
    "papermill": {
     "duration": 0.055759,
     "end_time": "2024-09-14T19:33:49.539170",
     "exception": false,
     "start_time": "2024-09-14T19:33:49.483411",
     "status": "completed"
    },
    "tags": []
   },
   "outputs": [
    {
     "data": {
      "text/plain": [
       "location\n",
       "Basapura                 10\n",
       "1st Block Koramangala    10\n",
       "Gunjur Palya             10\n",
       "Kalkere                  10\n",
       "Sector 1 HSR Layout      10\n",
       "                         ..\n",
       "1 Giri Nagar              1\n",
       "Kanakapura Road,          1\n",
       "Kanakapura main  Road     1\n",
       "Karnataka Shabarimala     1\n",
       "whitefiled                1\n",
       "Name: location, Length: 1052, dtype: int64"
      ]
     },
     "execution_count": 29,
     "metadata": {},
     "output_type": "execute_result"
    }
   ],
   "source": [
    "location_stats_less_than_10 = location_stats[location_stats<=10]\n",
    "location_stats_less_than_10"
   ]
  },
  {
   "cell_type": "code",
   "execution_count": 30,
   "id": "a79a582d",
   "metadata": {
    "execution": {
     "iopub.execute_input": "2024-09-14T19:33:49.622554Z",
     "iopub.status.busy": "2024-09-14T19:33:49.621410Z",
     "iopub.status.idle": "2024-09-14T19:33:49.631240Z",
     "shell.execute_reply": "2024-09-14T19:33:49.630058Z"
    },
    "papermill": {
     "duration": 0.054753,
     "end_time": "2024-09-14T19:33:49.634266",
     "exception": false,
     "start_time": "2024-09-14T19:33:49.579513",
     "status": "completed"
    },
    "tags": []
   },
   "outputs": [
    {
     "data": {
      "text/plain": [
       "1293"
      ]
     },
     "execution_count": 30,
     "metadata": {},
     "output_type": "execute_result"
    }
   ],
   "source": [
    "len(df5.location.unique())"
   ]
  },
  {
   "cell_type": "code",
   "execution_count": 31,
   "id": "b45cae53",
   "metadata": {
    "execution": {
     "iopub.execute_input": "2024-09-14T19:33:49.723992Z",
     "iopub.status.busy": "2024-09-14T19:33:49.722541Z",
     "iopub.status.idle": "2024-09-14T19:33:49.782089Z",
     "shell.execute_reply": "2024-09-14T19:33:49.780639Z"
    },
    "papermill": {
     "duration": 0.108296,
     "end_time": "2024-09-14T19:33:49.784804",
     "exception": false,
     "start_time": "2024-09-14T19:33:49.676508",
     "status": "completed"
    },
    "tags": []
   },
   "outputs": [
    {
     "data": {
      "text/plain": [
       "242"
      ]
     },
     "execution_count": 31,
     "metadata": {},
     "output_type": "execute_result"
    }
   ],
   "source": [
    "df5.location = df5.location.apply(lambda x : 'other' if x in location_stats_less_than_10 else x)\n",
    "len(df5.location.unique())"
   ]
  },
  {
   "cell_type": "code",
   "execution_count": 32,
   "id": "9a3e9478",
   "metadata": {
    "execution": {
     "iopub.execute_input": "2024-09-14T19:33:49.870865Z",
     "iopub.status.busy": "2024-09-14T19:33:49.870398Z",
     "iopub.status.idle": "2024-09-14T19:33:49.890783Z",
     "shell.execute_reply": "2024-09-14T19:33:49.889126Z"
    },
    "papermill": {
     "duration": 0.067013,
     "end_time": "2024-09-14T19:33:49.893730",
     "exception": false,
     "start_time": "2024-09-14T19:33:49.826717",
     "status": "completed"
    },
    "tags": []
   },
   "outputs": [
    {
     "data": {
      "text/html": [
       "<div>\n",
       "<style scoped>\n",
       "    .dataframe tbody tr th:only-of-type {\n",
       "        vertical-align: middle;\n",
       "    }\n",
       "\n",
       "    .dataframe tbody tr th {\n",
       "        vertical-align: top;\n",
       "    }\n",
       "\n",
       "    .dataframe thead th {\n",
       "        text-align: right;\n",
       "    }\n",
       "</style>\n",
       "<table border=\"1\" class=\"dataframe\">\n",
       "  <thead>\n",
       "    <tr style=\"text-align: right;\">\n",
       "      <th></th>\n",
       "      <th>location</th>\n",
       "      <th>size</th>\n",
       "      <th>total_sqft</th>\n",
       "      <th>bath</th>\n",
       "      <th>price</th>\n",
       "      <th>bhk</th>\n",
       "      <th>price_per_sqft</th>\n",
       "    </tr>\n",
       "  </thead>\n",
       "  <tbody>\n",
       "    <tr>\n",
       "      <th>0</th>\n",
       "      <td>Electronic City Phase II</td>\n",
       "      <td>2 BHK</td>\n",
       "      <td>1056.0</td>\n",
       "      <td>2.0</td>\n",
       "      <td>39.07</td>\n",
       "      <td>2</td>\n",
       "      <td>3699.810606</td>\n",
       "    </tr>\n",
       "    <tr>\n",
       "      <th>1</th>\n",
       "      <td>Chikka Tirupathi</td>\n",
       "      <td>4 Bedroom</td>\n",
       "      <td>2600.0</td>\n",
       "      <td>5.0</td>\n",
       "      <td>120.00</td>\n",
       "      <td>4</td>\n",
       "      <td>4615.384615</td>\n",
       "    </tr>\n",
       "    <tr>\n",
       "      <th>2</th>\n",
       "      <td>Uttarahalli</td>\n",
       "      <td>3 BHK</td>\n",
       "      <td>1440.0</td>\n",
       "      <td>2.0</td>\n",
       "      <td>62.00</td>\n",
       "      <td>3</td>\n",
       "      <td>4305.555556</td>\n",
       "    </tr>\n",
       "    <tr>\n",
       "      <th>3</th>\n",
       "      <td>Lingadheeranahalli</td>\n",
       "      <td>3 BHK</td>\n",
       "      <td>1521.0</td>\n",
       "      <td>3.0</td>\n",
       "      <td>95.00</td>\n",
       "      <td>3</td>\n",
       "      <td>6245.890861</td>\n",
       "    </tr>\n",
       "    <tr>\n",
       "      <th>4</th>\n",
       "      <td>Kothanur</td>\n",
       "      <td>2 BHK</td>\n",
       "      <td>1200.0</td>\n",
       "      <td>2.0</td>\n",
       "      <td>51.00</td>\n",
       "      <td>2</td>\n",
       "      <td>4250.000000</td>\n",
       "    </tr>\n",
       "    <tr>\n",
       "      <th>5</th>\n",
       "      <td>Whitefield</td>\n",
       "      <td>2 BHK</td>\n",
       "      <td>1170.0</td>\n",
       "      <td>2.0</td>\n",
       "      <td>38.00</td>\n",
       "      <td>2</td>\n",
       "      <td>3247.863248</td>\n",
       "    </tr>\n",
       "    <tr>\n",
       "      <th>6</th>\n",
       "      <td>Old Airport Road</td>\n",
       "      <td>4 BHK</td>\n",
       "      <td>2732.0</td>\n",
       "      <td>4.0</td>\n",
       "      <td>204.00</td>\n",
       "      <td>4</td>\n",
       "      <td>7467.057101</td>\n",
       "    </tr>\n",
       "    <tr>\n",
       "      <th>7</th>\n",
       "      <td>Rajaji Nagar</td>\n",
       "      <td>4 BHK</td>\n",
       "      <td>3300.0</td>\n",
       "      <td>4.0</td>\n",
       "      <td>600.00</td>\n",
       "      <td>4</td>\n",
       "      <td>18181.818182</td>\n",
       "    </tr>\n",
       "    <tr>\n",
       "      <th>8</th>\n",
       "      <td>Marathahalli</td>\n",
       "      <td>3 BHK</td>\n",
       "      <td>1310.0</td>\n",
       "      <td>3.0</td>\n",
       "      <td>63.25</td>\n",
       "      <td>3</td>\n",
       "      <td>4828.244275</td>\n",
       "    </tr>\n",
       "    <tr>\n",
       "      <th>9</th>\n",
       "      <td>other</td>\n",
       "      <td>6 Bedroom</td>\n",
       "      <td>1020.0</td>\n",
       "      <td>6.0</td>\n",
       "      <td>370.00</td>\n",
       "      <td>6</td>\n",
       "      <td>36274.509804</td>\n",
       "    </tr>\n",
       "  </tbody>\n",
       "</table>\n",
       "</div>"
      ],
      "text/plain": [
       "                   location       size  total_sqft  bath   price  bhk  \\\n",
       "0  Electronic City Phase II      2 BHK      1056.0   2.0   39.07    2   \n",
       "1          Chikka Tirupathi  4 Bedroom      2600.0   5.0  120.00    4   \n",
       "2               Uttarahalli      3 BHK      1440.0   2.0   62.00    3   \n",
       "3        Lingadheeranahalli      3 BHK      1521.0   3.0   95.00    3   \n",
       "4                  Kothanur      2 BHK      1200.0   2.0   51.00    2   \n",
       "5                Whitefield      2 BHK      1170.0   2.0   38.00    2   \n",
       "6          Old Airport Road      4 BHK      2732.0   4.0  204.00    4   \n",
       "7              Rajaji Nagar      4 BHK      3300.0   4.0  600.00    4   \n",
       "8              Marathahalli      3 BHK      1310.0   3.0   63.25    3   \n",
       "9                     other  6 Bedroom      1020.0   6.0  370.00    6   \n",
       "\n",
       "   price_per_sqft  \n",
       "0     3699.810606  \n",
       "1     4615.384615  \n",
       "2     4305.555556  \n",
       "3     6245.890861  \n",
       "4     4250.000000  \n",
       "5     3247.863248  \n",
       "6     7467.057101  \n",
       "7    18181.818182  \n",
       "8     4828.244275  \n",
       "9    36274.509804  "
      ]
     },
     "execution_count": 32,
     "metadata": {},
     "output_type": "execute_result"
    }
   ],
   "source": [
    "df5.head(10)"
   ]
  },
  {
   "cell_type": "markdown",
   "id": "e207717a",
   "metadata": {
    "papermill": {
     "duration": 0.052214,
     "end_time": "2024-09-14T19:33:49.994795",
     "exception": false,
     "start_time": "2024-09-14T19:33:49.942581",
     "status": "completed"
    },
    "tags": []
   },
   "source": [
    "<div class=\"final\" id = \"title\">Outlier Detection & Removal Using Business Logic</div>"
   ]
  },
  {
   "cell_type": "markdown",
   "id": "850114e1",
   "metadata": {
    "papermill": {
     "duration": 0.048501,
     "end_time": "2024-09-14T19:33:50.087046",
     "exception": false,
     "start_time": "2024-09-14T19:33:50.038545",
     "status": "completed"
    },
    "tags": []
   },
   "source": [
    "<div class=\"section\"> As a data scientist when you have a conversation with your business manager (who has expertise in real estate), he will tell you that normally square ft per bedroom is 300 (i.e. 2 bhk apartment is minimum 600 sqft. If you have for example 400 sqft apartment with 2 bhk than that seems suspicious and can be removed as an outlier. We will remove such outliers by keeping our minimum thresold per bhk to be 300 sqft\n",
    "\n",
    "</div>"
   ]
  },
  {
   "cell_type": "code",
   "execution_count": 33,
   "id": "1ff09a42",
   "metadata": {
    "execution": {
     "iopub.execute_input": "2024-09-14T19:33:50.203621Z",
     "iopub.status.busy": "2024-09-14T19:33:50.202631Z",
     "iopub.status.idle": "2024-09-14T19:33:50.223225Z",
     "shell.execute_reply": "2024-09-14T19:33:50.222002Z"
    },
    "papermill": {
     "duration": 0.082507,
     "end_time": "2024-09-14T19:33:50.226424",
     "exception": false,
     "start_time": "2024-09-14T19:33:50.143917",
     "status": "completed"
    },
    "tags": []
   },
   "outputs": [
    {
     "data": {
      "text/html": [
       "<div>\n",
       "<style scoped>\n",
       "    .dataframe tbody tr th:only-of-type {\n",
       "        vertical-align: middle;\n",
       "    }\n",
       "\n",
       "    .dataframe tbody tr th {\n",
       "        vertical-align: top;\n",
       "    }\n",
       "\n",
       "    .dataframe thead th {\n",
       "        text-align: right;\n",
       "    }\n",
       "</style>\n",
       "<table border=\"1\" class=\"dataframe\">\n",
       "  <thead>\n",
       "    <tr style=\"text-align: right;\">\n",
       "      <th></th>\n",
       "      <th>location</th>\n",
       "      <th>size</th>\n",
       "      <th>total_sqft</th>\n",
       "      <th>bath</th>\n",
       "      <th>price</th>\n",
       "      <th>bhk</th>\n",
       "      <th>price_per_sqft</th>\n",
       "    </tr>\n",
       "  </thead>\n",
       "  <tbody>\n",
       "    <tr>\n",
       "      <th>9</th>\n",
       "      <td>other</td>\n",
       "      <td>6 Bedroom</td>\n",
       "      <td>1020.0</td>\n",
       "      <td>6.0</td>\n",
       "      <td>370.0</td>\n",
       "      <td>6</td>\n",
       "      <td>36274.509804</td>\n",
       "    </tr>\n",
       "    <tr>\n",
       "      <th>45</th>\n",
       "      <td>HSR Layout</td>\n",
       "      <td>8 Bedroom</td>\n",
       "      <td>600.0</td>\n",
       "      <td>9.0</td>\n",
       "      <td>200.0</td>\n",
       "      <td>8</td>\n",
       "      <td>33333.333333</td>\n",
       "    </tr>\n",
       "    <tr>\n",
       "      <th>58</th>\n",
       "      <td>Murugeshpalya</td>\n",
       "      <td>6 Bedroom</td>\n",
       "      <td>1407.0</td>\n",
       "      <td>4.0</td>\n",
       "      <td>150.0</td>\n",
       "      <td>6</td>\n",
       "      <td>10660.980810</td>\n",
       "    </tr>\n",
       "    <tr>\n",
       "      <th>68</th>\n",
       "      <td>Devarachikkanahalli</td>\n",
       "      <td>8 Bedroom</td>\n",
       "      <td>1350.0</td>\n",
       "      <td>7.0</td>\n",
       "      <td>85.0</td>\n",
       "      <td>8</td>\n",
       "      <td>6296.296296</td>\n",
       "    </tr>\n",
       "    <tr>\n",
       "      <th>70</th>\n",
       "      <td>other</td>\n",
       "      <td>3 Bedroom</td>\n",
       "      <td>500.0</td>\n",
       "      <td>3.0</td>\n",
       "      <td>100.0</td>\n",
       "      <td>3</td>\n",
       "      <td>20000.000000</td>\n",
       "    </tr>\n",
       "  </tbody>\n",
       "</table>\n",
       "</div>"
      ],
      "text/plain": [
       "               location       size  total_sqft  bath  price  bhk  \\\n",
       "9                 other  6 Bedroom      1020.0   6.0  370.0    6   \n",
       "45           HSR Layout  8 Bedroom       600.0   9.0  200.0    8   \n",
       "58        Murugeshpalya  6 Bedroom      1407.0   4.0  150.0    6   \n",
       "68  Devarachikkanahalli  8 Bedroom      1350.0   7.0   85.0    8   \n",
       "70                other  3 Bedroom       500.0   3.0  100.0    3   \n",
       "\n",
       "    price_per_sqft  \n",
       "9     36274.509804  \n",
       "45    33333.333333  \n",
       "58    10660.980810  \n",
       "68     6296.296296  \n",
       "70    20000.000000  "
      ]
     },
     "execution_count": 33,
     "metadata": {},
     "output_type": "execute_result"
    }
   ],
   "source": [
    "df5[df5.total_sqft/df5.bhk < 300].head()"
   ]
  },
  {
   "cell_type": "markdown",
   "id": "5a4e3c4a",
   "metadata": {
    "papermill": {
     "duration": 0.049735,
     "end_time": "2024-09-14T19:33:50.318358",
     "exception": false,
     "start_time": "2024-09-14T19:33:50.268623",
     "status": "completed"
    },
    "tags": []
   },
   "source": [
    "<div class=\"section\"> As we can see , there is rows such as 600 sqft with 8 bedrooms , this is clearly data anomaly or outlier and it is safe to remove such rows</div>"
   ]
  },
  {
   "cell_type": "code",
   "execution_count": 34,
   "id": "36141f23",
   "metadata": {
    "execution": {
     "iopub.execute_input": "2024-09-14T19:33:50.409651Z",
     "iopub.status.busy": "2024-09-14T19:33:50.409115Z",
     "iopub.status.idle": "2024-09-14T19:33:50.417375Z",
     "shell.execute_reply": "2024-09-14T19:33:50.415777Z"
    },
    "papermill": {
     "duration": 0.058048,
     "end_time": "2024-09-14T19:33:50.420025",
     "exception": false,
     "start_time": "2024-09-14T19:33:50.361977",
     "status": "completed"
    },
    "tags": []
   },
   "outputs": [
    {
     "data": {
      "text/plain": [
       "(13246, 7)"
      ]
     },
     "execution_count": 34,
     "metadata": {},
     "output_type": "execute_result"
    }
   ],
   "source": [
    "df5.shape"
   ]
  },
  {
   "cell_type": "code",
   "execution_count": 35,
   "id": "e61c73c3",
   "metadata": {
    "execution": {
     "iopub.execute_input": "2024-09-14T19:33:50.508511Z",
     "iopub.status.busy": "2024-09-14T19:33:50.507985Z",
     "iopub.status.idle": "2024-09-14T19:33:50.519766Z",
     "shell.execute_reply": "2024-09-14T19:33:50.518523Z"
    },
    "papermill": {
     "duration": 0.060091,
     "end_time": "2024-09-14T19:33:50.522701",
     "exception": false,
     "start_time": "2024-09-14T19:33:50.462610",
     "status": "completed"
    },
    "tags": []
   },
   "outputs": [
    {
     "data": {
      "text/plain": [
       "(12502, 7)"
      ]
     },
     "execution_count": 35,
     "metadata": {},
     "output_type": "execute_result"
    }
   ],
   "source": [
    "# Creating New dataframe where we remove outliers based on this filtering \n",
    "df6 = df5[~(df5.total_sqft/df5.bhk < 300)]\n",
    "df6.shape"
   ]
  },
  {
   "cell_type": "markdown",
   "id": "d5296d85",
   "metadata": {
    "papermill": {
     "duration": 0.042594,
     "end_time": "2024-09-14T19:33:50.608216",
     "exception": false,
     "start_time": "2024-09-14T19:33:50.565622",
     "status": "completed"
    },
    "tags": []
   },
   "source": [
    "<div class=\"section\">We successfully removed outliers of sqft/bedrooms but we can have more outliers , so lets check price/sqft is either very very high or very very low</div>"
   ]
  },
  {
   "cell_type": "markdown",
   "id": "b8702cbf",
   "metadata": {
    "papermill": {
     "duration": 0.042321,
     "end_time": "2024-09-14T19:33:50.693588",
     "exception": false,
     "start_time": "2024-09-14T19:33:50.651267",
     "status": "completed"
    },
    "tags": []
   },
   "source": [
    "### Outlier Removal Using Standard Deviation and Mean\n"
   ]
  },
  {
   "cell_type": "code",
   "execution_count": 36,
   "id": "abff88fd",
   "metadata": {
    "execution": {
     "iopub.execute_input": "2024-09-14T19:33:50.781368Z",
     "iopub.status.busy": "2024-09-14T19:33:50.780942Z",
     "iopub.status.idle": "2024-09-14T19:33:50.796316Z",
     "shell.execute_reply": "2024-09-14T19:33:50.794938Z"
    },
    "papermill": {
     "duration": 0.062144,
     "end_time": "2024-09-14T19:33:50.798881",
     "exception": false,
     "start_time": "2024-09-14T19:33:50.736737",
     "status": "completed"
    },
    "tags": []
   },
   "outputs": [
    {
     "data": {
      "text/plain": [
       "count     12456.000000\n",
       "mean       6308.502826\n",
       "std        4168.127339\n",
       "min         267.829813\n",
       "25%        4210.526316\n",
       "50%        5294.117647\n",
       "75%        6916.666667\n",
       "max      176470.588235\n",
       "Name: price_per_sqft, dtype: float64"
      ]
     },
     "execution_count": 36,
     "metadata": {},
     "output_type": "execute_result"
    }
   ],
   "source": [
    "df6.price_per_sqft.describe()"
   ]
  },
  {
   "cell_type": "markdown",
   "id": "51c4e89a",
   "metadata": {
    "papermill": {
     "duration": 0.042837,
     "end_time": "2024-09-14T19:33:50.884921",
     "exception": false,
     "start_time": "2024-09-14T19:33:50.842084",
     "status": "completed"
    },
    "tags": []
   },
   "source": [
    "##### So we will remove data points that is outside mean and std per location "
   ]
  },
  {
   "cell_type": "code",
   "execution_count": 37,
   "id": "0d6a4b6d",
   "metadata": {
    "execution": {
     "iopub.execute_input": "2024-09-14T19:33:50.974368Z",
     "iopub.status.busy": "2024-09-14T19:33:50.973910Z",
     "iopub.status.idle": "2024-09-14T19:33:50.981748Z",
     "shell.execute_reply": "2024-09-14T19:33:50.980490Z"
    },
    "papermill": {
     "duration": 0.056489,
     "end_time": "2024-09-14T19:33:50.984189",
     "exception": false,
     "start_time": "2024-09-14T19:33:50.927700",
     "status": "completed"
    },
    "tags": []
   },
   "outputs": [],
   "source": [
    "def remove_pps_outliers(df):\n",
    "    df_out = pd.DataFrame()\n",
    "    for key,subdf in df.groupby('location'):\n",
    "        m = np.mean(subdf.price_per_sqft)\n",
    "        st = np.std(subdf.price_per_sqft)\n",
    "        reduced_df = subdf[(subdf.price_per_sqft > (m-st)) & (subdf.price_per_sqft <= (m+st))]\n",
    "        df_out = pd.concat([df_out, reduced_df],ignore_index=True)\n",
    "    return df_out\n",
    "    "
   ]
  },
  {
   "cell_type": "code",
   "execution_count": 38,
   "id": "72a8c0e1",
   "metadata": {
    "execution": {
     "iopub.execute_input": "2024-09-14T19:33:51.071220Z",
     "iopub.status.busy": "2024-09-14T19:33:51.070739Z",
     "iopub.status.idle": "2024-09-14T19:33:51.427096Z",
     "shell.execute_reply": "2024-09-14T19:33:51.425762Z"
    },
    "papermill": {
     "duration": 0.403385,
     "end_time": "2024-09-14T19:33:51.429701",
     "exception": false,
     "start_time": "2024-09-14T19:33:51.026316",
     "status": "completed"
    },
    "tags": []
   },
   "outputs": [
    {
     "data": {
      "text/plain": [
       "(10241, 7)"
      ]
     },
     "execution_count": 38,
     "metadata": {},
     "output_type": "execute_result"
    }
   ],
   "source": [
    "df7 = remove_pps_outliers(df6)\n",
    "df7.shape"
   ]
  },
  {
   "cell_type": "code",
   "execution_count": 39,
   "id": "5f5d2b20",
   "metadata": {
    "execution": {
     "iopub.execute_input": "2024-09-14T19:33:51.517252Z",
     "iopub.status.busy": "2024-09-14T19:33:51.516719Z",
     "iopub.status.idle": "2024-09-14T19:33:51.526273Z",
     "shell.execute_reply": "2024-09-14T19:33:51.524955Z"
    },
    "papermill": {
     "duration": 0.057104,
     "end_time": "2024-09-14T19:33:51.528892",
     "exception": false,
     "start_time": "2024-09-14T19:33:51.471788",
     "status": "completed"
    },
    "tags": []
   },
   "outputs": [],
   "source": [
    "def plot_scatter_chart(df,location):\n",
    "    bhk2 = df[(df.location==location) & (df.bhk==2)]\n",
    "    bhk3 = df[(df.location==location) & (df.bhk==3)]\n",
    "    matplotlib.rcParams['figure.figsize'] = (15,10)\n",
    "    plt.scatter(bhk2.total_sqft,bhk2.price,color='blue',label='2 BHK', s=50)\n",
    "    plt.scatter(bhk3.total_sqft,bhk3.price,marker='+', color='green',label='3 BHK', s=50)\n",
    "    plt.xlabel(\"Total Square Feet Area\")\n",
    "    plt.ylabel(\"Price (Lakh Indian Rupees)\")\n",
    "    plt.title(location)\n",
    "    plt.legend()\n",
    "    "
   ]
  },
  {
   "cell_type": "code",
   "execution_count": 40,
   "id": "66520f12",
   "metadata": {
    "execution": {
     "iopub.execute_input": "2024-09-14T19:33:51.617984Z",
     "iopub.status.busy": "2024-09-14T19:33:51.617471Z",
     "iopub.status.idle": "2024-09-14T19:33:52.139334Z",
     "shell.execute_reply": "2024-09-14T19:33:52.137877Z"
    },
    "papermill": {
     "duration": 0.569788,
     "end_time": "2024-09-14T19:33:52.142486",
     "exception": false,
     "start_time": "2024-09-14T19:33:51.572698",
     "status": "completed"
    },
    "tags": []
   },
   "outputs": [
    {
     "data": {
      "image/png": "[encoded data removed]",
      "text/plain": [
       "<Figure size 1500x1000 with 1 Axes>"
      ]
     },
     "metadata": {},
     "output_type": "display_data"
    }
   ],
   "source": [
    "plot_scatter_chart(df7,\"Rajaji Nagar\")"
   ]
  },
  {
   "cell_type": "code",
   "execution_count": 41,
   "id": "a0adb4d8",
   "metadata": {
    "execution": {
     "iopub.execute_input": "2024-09-14T19:33:52.235838Z",
     "iopub.status.busy": "2024-09-14T19:33:52.235318Z",
     "iopub.status.idle": "2024-09-14T19:33:52.706086Z",
     "shell.execute_reply": "2024-09-14T19:33:52.704578Z"
    },
    "papermill": {
     "duration": 0.52139,
     "end_time": "2024-09-14T19:33:52.709182",
     "exception": false,
     "start_time": "2024-09-14T19:33:52.187792",
     "status": "completed"
    },
    "tags": []
   },
   "outputs": [
    {
     "data": {
      "image/png": "[encoded data removed]",
      "text/plain": [
       "<Figure size 1500x1000 with 1 Axes>"
      ]
     },
     "metadata": {},
     "output_type": "display_data"
    }
   ],
   "source": [
    "plot_scatter_chart(df7,\"Hebbal\")"
   ]
  },
  {
   "cell_type": "markdown",
   "id": "540ddd00",
   "metadata": {
    "papermill": {
     "duration": 0.045934,
     "end_time": "2024-09-14T19:33:52.801796",
     "exception": false,
     "start_time": "2024-09-14T19:33:52.755862",
     "status": "completed"
    },
    "tags": []
   },
   "source": [
    "<div class=\"section\">There are some cases that 3 bedrooms are having lower prices than 2 bedrooms in the same location , so lets clean these datapoints </div>\n"
   ]
  },
  {
   "cell_type": "markdown",
   "id": "90fb97a6",
   "metadata": {
    "papermill": {
     "duration": 0.046256,
     "end_time": "2024-09-14T19:33:52.895084",
     "exception": false,
     "start_time": "2024-09-14T19:33:52.848828",
     "status": "completed"
    },
    "tags": []
   },
   "source": [
    "We should also remove properties where for same location, the price of (for example) 3 bedroom apartment is less than 2 bedroom apartment (with same square ft area). What we will do is for a given location, we will build a dictionary of stats per bhk, i.e.\n",
    "\n",
    "\n",
    "{\n",
    "\n",
    "    '1' : {\n",
    "        'mean': 4000,\n",
    "        'std: 2000,\n",
    "        'count': 34\n",
    "    },\n",
    "    '2' : {\n",
    "        'mean': 4300,\n",
    "        'std: 2300,\n",
    "        'count': 22\n",
    "    },  \n",
    "    \n",
    "}\n",
    "\n"
   ]
  },
  {
   "cell_type": "markdown",
   "id": "56e164ea",
   "metadata": {
    "papermill": {
     "duration": 0.047598,
     "end_time": "2024-09-14T19:33:52.989439",
     "exception": false,
     "start_time": "2024-09-14T19:33:52.941841",
     "status": "completed"
    },
    "tags": []
   },
   "source": [
    "**Now we can remove those 2 BHK apartments whose price_per_sqft is less than mean price_per_sqft of 1 BHK apartment**"
   ]
  },
  {
   "cell_type": "code",
   "execution_count": 42,
   "id": "e285f97a",
   "metadata": {
    "execution": {
     "iopub.execute_input": "2024-09-14T19:33:53.085798Z",
     "iopub.status.busy": "2024-09-14T19:33:53.085300Z",
     "iopub.status.idle": "2024-09-14T19:33:53.096002Z",
     "shell.execute_reply": "2024-09-14T19:33:53.094303Z"
    },
    "papermill": {
     "duration": 0.063298,
     "end_time": "2024-09-14T19:33:53.098975",
     "exception": false,
     "start_time": "2024-09-14T19:33:53.035677",
     "status": "completed"
    },
    "tags": []
   },
   "outputs": [],
   "source": [
    "def remove_bhk_outliers(df):\n",
    "    exclude_indices = np.array([])\n",
    "    for location, location_df in df.groupby('location'):\n",
    "        bhk_stats = {}\n",
    "        for bhk, bhk_df in location_df.groupby('bhk'):\n",
    "            bhk_stats[bhk] = {\n",
    "                'mean': np.mean(bhk_df.price_per_sqft),\n",
    "                'std': np.std(bhk_df.price_per_sqft),\n",
    "                'count': bhk_df.shape[0]\n",
    "            }\n",
    "        for bhk, bhk_df in location_df.groupby('bhk'):\n",
    "            stats = bhk_stats.get(bhk-1)\n",
    "            if stats and stats['count']>5:\n",
    "                exclude_indices = np.append(exclude_indices, bhk_df[bhk_df.price_per_sqft<(stats['mean'])].index.values)\n",
    "    return df.drop(exclude_indices,axis='index')\n"
   ]
  },
  {
   "cell_type": "code",
   "execution_count": 43,
   "id": "9afa584f",
   "metadata": {
    "execution": {
     "iopub.execute_input": "2024-09-14T19:33:53.197801Z",
     "iopub.status.busy": "2024-09-14T19:33:53.197109Z",
     "iopub.status.idle": "2024-09-14T19:33:53.846389Z",
     "shell.execute_reply": "2024-09-14T19:33:53.844982Z"
    },
    "papermill": {
     "duration": 0.701779,
     "end_time": "2024-09-14T19:33:53.849114",
     "exception": false,
     "start_time": "2024-09-14T19:33:53.147335",
     "status": "completed"
    },
    "tags": []
   },
   "outputs": [
    {
     "data": {
      "text/plain": [
       "(7329, 7)"
      ]
     },
     "execution_count": 43,
     "metadata": {},
     "output_type": "execute_result"
    }
   ],
   "source": [
    "df8 = remove_bhk_outliers(df7)\n",
    "# df8 = df7.copy()\n",
    "df8.shape"
   ]
  },
  {
   "cell_type": "code",
   "execution_count": 44,
   "id": "259d0250",
   "metadata": {
    "execution": {
     "iopub.execute_input": "2024-09-14T19:33:53.944856Z",
     "iopub.status.busy": "2024-09-14T19:33:53.944373Z",
     "iopub.status.idle": "2024-09-14T19:33:54.409508Z",
     "shell.execute_reply": "2024-09-14T19:33:54.408199Z"
    },
    "papermill": {
     "duration": 0.516566,
     "end_time": "2024-09-14T19:33:54.412143",
     "exception": false,
     "start_time": "2024-09-14T19:33:53.895577",
     "status": "completed"
    },
    "tags": []
   },
   "outputs": [
    {
     "data": {
      "image/png": "[encoded data removed]",
      "text/plain": [
       "<Figure size 1500x1000 with 1 Axes>"
      ]
     },
     "metadata": {},
     "output_type": "display_data"
    }
   ],
   "source": [
    "plot_scatter_chart(df8,\"Rajaji Nagar\")\n"
   ]
  },
  {
   "cell_type": "code",
   "execution_count": 45,
   "id": "652a3bdd",
   "metadata": {
    "execution": {
     "iopub.execute_input": "2024-09-14T19:33:54.510873Z",
     "iopub.status.busy": "2024-09-14T19:33:54.510431Z",
     "iopub.status.idle": "2024-09-14T19:33:54.954501Z",
     "shell.execute_reply": "2024-09-14T19:33:54.952967Z"
    },
    "papermill": {
     "duration": 0.496988,
     "end_time": "2024-09-14T19:33:54.957776",
     "exception": false,
     "start_time": "2024-09-14T19:33:54.460788",
     "status": "completed"
    },
    "tags": []
   },
   "outputs": [
    {
     "data": {
      "image/png": "[encoded data removed]",
      "text/plain": [
       "<Figure size 1500x1000 with 1 Axes>"
      ]
     },
     "metadata": {},
     "output_type": "display_data"
    }
   ],
   "source": [
    "plot_scatter_chart(df8,\"Hebbal\")"
   ]
  },
  {
   "attachments": {
    "e854bad9-cb03-48d7-925d-9f61e562df23.png": {
     "image/png": "[encoded data removed]"
    }
   },
   "cell_type": "markdown",
   "id": "c07c7638",
   "metadata": {
    "papermill": {
     "duration": 0.04954,
     "end_time": "2024-09-14T19:33:55.058225",
     "exception": false,
     "start_time": "2024-09-14T19:33:55.008685",
     "status": "completed"
    },
    "tags": []
   },
   "source": [
    "### Before & After Removal Of Outlier in \"Rajaji Nagar\" Location\n",
    "![rajaji_nagar_outliers.png](attachment:e854bad9-cb03-48d7-925d-9f61e562df23.png)"
   ]
  },
  {
   "attachments": {
    "9cd9b6c9-4118-49d7-9d81-64ef19fbce96.png": {
     "image/png": "[encoded data removed]"
    }
   },
   "cell_type": "markdown",
   "id": "45c4f6b6",
   "metadata": {
    "papermill": {
     "duration": 0.047246,
     "end_time": "2024-09-14T19:33:55.153645",
     "exception": false,
     "start_time": "2024-09-14T19:33:55.106399",
     "status": "completed"
    },
    "tags": []
   },
   "source": [
    "### Before & After Removal Of Outlier in \"hebbal\" Location\n",
    "![hebbal_outliers.png](attachment:9cd9b6c9-4118-49d7-9d81-64ef19fbce96.png)"
   ]
  },
  {
   "cell_type": "markdown",
   "id": "30a6e2bb",
   "metadata": {
    "papermill": {
     "duration": 0.047224,
     "end_time": "2024-09-14T19:33:55.249559",
     "exception": false,
     "start_time": "2024-09-14T19:33:55.202335",
     "status": "completed"
    },
    "tags": []
   },
   "source": [
    "#### Much Cleaner Now , Lets Plot Histogram per sqft"
   ]
  },
  {
   "cell_type": "code",
   "execution_count": 46,
   "id": "ea44280c",
   "metadata": {
    "execution": {
     "iopub.execute_input": "2024-09-14T19:33:55.347416Z",
     "iopub.status.busy": "2024-09-14T19:33:55.346929Z",
     "iopub.status.idle": "2024-09-14T19:33:55.737585Z",
     "shell.execute_reply": "2024-09-14T19:33:55.736219Z"
    },
    "papermill": {
     "duration": 0.443489,
     "end_time": "2024-09-14T19:33:55.740714",
     "exception": false,
     "start_time": "2024-09-14T19:33:55.297225",
     "status": "completed"
    },
    "tags": []
   },
   "outputs": [
    {
     "data": {
      "text/plain": [
       "Text(0, 0.5, 'Count')"
      ]
     },
     "execution_count": 46,
     "metadata": {},
     "output_type": "execute_result"
    },
    {
     "data": {
      "image/png": "[encoded data removed]",
      "text/plain": [
       "<Figure size 2000x1000 with 1 Axes>"
      ]
     },
     "metadata": {},
     "output_type": "display_data"
    }
   ],
   "source": [
    "matplotlib.rcParams[\"figure.figsize\"] = (20,10)\n",
    "plt.hist(df8.price_per_sqft,rwidth=0.8)\n",
    "plt.xlabel(\"Price Per Square Feet\")\n",
    "plt.ylabel(\"Count\")"
   ]
  },
  {
   "cell_type": "markdown",
   "id": "b6807b6f",
   "metadata": {
    "papermill": {
     "duration": 0.049135,
     "end_time": "2024-09-14T19:33:55.841741",
     "exception": false,
     "start_time": "2024-09-14T19:33:55.792606",
     "status": "completed"
    },
    "tags": []
   },
   "source": [
    "<div class=\"section\"> So we can the that the majority of cases is in between 0 to 10000 rupees per square feet price </div>\n"
   ]
  },
  {
   "cell_type": "markdown",
   "id": "bb2ae2b8",
   "metadata": {
    "papermill": {
     "duration": 0.049112,
     "end_time": "2024-09-14T19:33:55.941419",
     "exception": false,
     "start_time": "2024-09-14T19:33:55.892307",
     "status": "completed"
    },
    "tags": []
   },
   "source": [
    "### Outlier Removal Using Bathrooms Feature"
   ]
  },
  {
   "cell_type": "code",
   "execution_count": 47,
   "id": "acdb9288",
   "metadata": {
    "execution": {
     "iopub.execute_input": "2024-09-14T19:33:56.042910Z",
     "iopub.status.busy": "2024-09-14T19:33:56.042384Z",
     "iopub.status.idle": "2024-09-14T19:33:56.052418Z",
     "shell.execute_reply": "2024-09-14T19:33:56.051044Z"
    },
    "papermill": {
     "duration": 0.062806,
     "end_time": "2024-09-14T19:33:56.055229",
     "exception": false,
     "start_time": "2024-09-14T19:33:55.992423",
     "status": "completed"
    },
    "tags": []
   },
   "outputs": [
    {
     "data": {
      "text/plain": [
       "array([ 4.,  3.,  2.,  5.,  8.,  1.,  6.,  7.,  9., 12., 16., 13.])"
      ]
     },
     "execution_count": 47,
     "metadata": {},
     "output_type": "execute_result"
    }
   ],
   "source": [
    "df8.bath.unique()"
   ]
  },
  {
   "cell_type": "code",
   "execution_count": 48,
   "id": "455aa1cb",
   "metadata": {
    "execution": {
     "iopub.execute_input": "2024-09-14T19:33:56.154242Z",
     "iopub.status.busy": "2024-09-14T19:33:56.153832Z",
     "iopub.status.idle": "2024-09-14T19:33:56.172546Z",
     "shell.execute_reply": "2024-09-14T19:33:56.170980Z"
    },
    "papermill": {
     "duration": 0.070721,
     "end_time": "2024-09-14T19:33:56.175167",
     "exception": false,
     "start_time": "2024-09-14T19:33:56.104446",
     "status": "completed"
    },
    "tags": []
   },
   "outputs": [
    {
     "data": {
      "text/html": [
       "<div>\n",
       "<style scoped>\n",
       "    .dataframe tbody tr th:only-of-type {\n",
       "        vertical-align: middle;\n",
       "    }\n",
       "\n",
       "    .dataframe tbody tr th {\n",
       "        vertical-align: top;\n",
       "    }\n",
       "\n",
       "    .dataframe thead th {\n",
       "        text-align: right;\n",
       "    }\n",
       "</style>\n",
       "<table border=\"1\" class=\"dataframe\">\n",
       "  <thead>\n",
       "    <tr style=\"text-align: right;\">\n",
       "      <th></th>\n",
       "      <th>location</th>\n",
       "      <th>size</th>\n",
       "      <th>total_sqft</th>\n",
       "      <th>bath</th>\n",
       "      <th>price</th>\n",
       "      <th>bhk</th>\n",
       "      <th>price_per_sqft</th>\n",
       "    </tr>\n",
       "  </thead>\n",
       "  <tbody>\n",
       "    <tr>\n",
       "      <th>5277</th>\n",
       "      <td>Neeladri Nagar</td>\n",
       "      <td>10 BHK</td>\n",
       "      <td>4000.0</td>\n",
       "      <td>12.0</td>\n",
       "      <td>160.0</td>\n",
       "      <td>10</td>\n",
       "      <td>4000.000000</td>\n",
       "    </tr>\n",
       "    <tr>\n",
       "      <th>8486</th>\n",
       "      <td>other</td>\n",
       "      <td>10 BHK</td>\n",
       "      <td>12000.0</td>\n",
       "      <td>12.0</td>\n",
       "      <td>525.0</td>\n",
       "      <td>10</td>\n",
       "      <td>4375.000000</td>\n",
       "    </tr>\n",
       "    <tr>\n",
       "      <th>8575</th>\n",
       "      <td>other</td>\n",
       "      <td>16 BHK</td>\n",
       "      <td>10000.0</td>\n",
       "      <td>16.0</td>\n",
       "      <td>550.0</td>\n",
       "      <td>16</td>\n",
       "      <td>5500.000000</td>\n",
       "    </tr>\n",
       "    <tr>\n",
       "      <th>9308</th>\n",
       "      <td>other</td>\n",
       "      <td>11 BHK</td>\n",
       "      <td>6000.0</td>\n",
       "      <td>12.0</td>\n",
       "      <td>150.0</td>\n",
       "      <td>11</td>\n",
       "      <td>2500.000000</td>\n",
       "    </tr>\n",
       "    <tr>\n",
       "      <th>9639</th>\n",
       "      <td>other</td>\n",
       "      <td>13 BHK</td>\n",
       "      <td>5425.0</td>\n",
       "      <td>13.0</td>\n",
       "      <td>275.0</td>\n",
       "      <td>13</td>\n",
       "      <td>5069.124424</td>\n",
       "    </tr>\n",
       "  </tbody>\n",
       "</table>\n",
       "</div>"
      ],
      "text/plain": [
       "            location    size  total_sqft  bath  price  bhk  price_per_sqft\n",
       "5277  Neeladri Nagar  10 BHK      4000.0  12.0  160.0   10     4000.000000\n",
       "8486           other  10 BHK     12000.0  12.0  525.0   10     4375.000000\n",
       "8575           other  16 BHK     10000.0  16.0  550.0   16     5500.000000\n",
       "9308           other  11 BHK      6000.0  12.0  150.0   11     2500.000000\n",
       "9639           other  13 BHK      5425.0  13.0  275.0   13     5069.124424"
      ]
     },
     "execution_count": 48,
     "metadata": {},
     "output_type": "execute_result"
    }
   ],
   "source": [
    "df8[df8.bath > 10]"
   ]
  },
  {
   "cell_type": "code",
   "execution_count": 49,
   "id": "456c5b5a",
   "metadata": {
    "execution": {
     "iopub.execute_input": "2024-09-14T19:33:56.278692Z",
     "iopub.status.busy": "2024-09-14T19:33:56.278211Z",
     "iopub.status.idle": "2024-09-14T19:33:56.680018Z",
     "shell.execute_reply": "2024-09-14T19:33:56.678550Z"
    },
    "papermill": {
     "duration": 0.456546,
     "end_time": "2024-09-14T19:33:56.682812",
     "exception": false,
     "start_time": "2024-09-14T19:33:56.226266",
     "status": "completed"
    },
    "tags": []
   },
   "outputs": [
    {
     "data": {
      "text/plain": [
       "Text(0, 0.5, 'Count')"
      ]
     },
     "execution_count": 49,
     "metadata": {},
     "output_type": "execute_result"
    },
    {
     "data": {
      "image/png": "[encoded data removed]",
      "text/plain": [
       "<Figure size 2000x1000 with 1 Axes>"
      ]
     },
     "metadata": {},
     "output_type": "display_data"
    }
   ],
   "source": [
    "plt.hist(df8.bath,rwidth=0.8)\n",
    "plt.xlabel(\"Number of bathrooms\")\n",
    "plt.ylabel(\"Count\")"
   ]
  },
  {
   "cell_type": "markdown",
   "id": "98b356e6",
   "metadata": {
    "papermill": {
     "duration": 0.053031,
     "end_time": "2024-09-14T19:33:56.795218",
     "exception": false,
     "start_time": "2024-09-14T19:33:56.742187",
     "status": "completed"
    },
    "tags": []
   },
   "source": [
    "#### Accoring to buisness logic .. It is unusual to have 2 more bathrooms than number of bedrooms in a home\n",
    "\n"
   ]
  },
  {
   "cell_type": "code",
   "execution_count": 50,
   "id": "c7189fc5",
   "metadata": {
    "execution": {
     "iopub.execute_input": "2024-09-14T19:33:56.906053Z",
     "iopub.status.busy": "2024-09-14T19:33:56.905101Z",
     "iopub.status.idle": "2024-09-14T19:33:56.925380Z",
     "shell.execute_reply": "2024-09-14T19:33:56.923386Z"
    },
    "papermill": {
     "duration": 0.080894,
     "end_time": "2024-09-14T19:33:56.929191",
     "exception": false,
     "start_time": "2024-09-14T19:33:56.848297",
     "status": "completed"
    },
    "tags": []
   },
   "outputs": [
    {
     "data": {
      "text/html": [
       "<div>\n",
       "<style scoped>\n",
       "    .dataframe tbody tr th:only-of-type {\n",
       "        vertical-align: middle;\n",
       "    }\n",
       "\n",
       "    .dataframe tbody tr th {\n",
       "        vertical-align: top;\n",
       "    }\n",
       "\n",
       "    .dataframe thead th {\n",
       "        text-align: right;\n",
       "    }\n",
       "</style>\n",
       "<table border=\"1\" class=\"dataframe\">\n",
       "  <thead>\n",
       "    <tr style=\"text-align: right;\">\n",
       "      <th></th>\n",
       "      <th>location</th>\n",
       "      <th>size</th>\n",
       "      <th>total_sqft</th>\n",
       "      <th>bath</th>\n",
       "      <th>price</th>\n",
       "      <th>bhk</th>\n",
       "      <th>price_per_sqft</th>\n",
       "    </tr>\n",
       "  </thead>\n",
       "  <tbody>\n",
       "    <tr>\n",
       "      <th>1626</th>\n",
       "      <td>Chikkabanavar</td>\n",
       "      <td>4 Bedroom</td>\n",
       "      <td>2460.0</td>\n",
       "      <td>7.0</td>\n",
       "      <td>80.0</td>\n",
       "      <td>4</td>\n",
       "      <td>3252.032520</td>\n",
       "    </tr>\n",
       "    <tr>\n",
       "      <th>5238</th>\n",
       "      <td>Nagasandra</td>\n",
       "      <td>4 Bedroom</td>\n",
       "      <td>7000.0</td>\n",
       "      <td>8.0</td>\n",
       "      <td>450.0</td>\n",
       "      <td>4</td>\n",
       "      <td>6428.571429</td>\n",
       "    </tr>\n",
       "    <tr>\n",
       "      <th>6711</th>\n",
       "      <td>Thanisandra</td>\n",
       "      <td>3 BHK</td>\n",
       "      <td>1806.0</td>\n",
       "      <td>6.0</td>\n",
       "      <td>116.0</td>\n",
       "      <td>3</td>\n",
       "      <td>6423.034330</td>\n",
       "    </tr>\n",
       "    <tr>\n",
       "      <th>8411</th>\n",
       "      <td>other</td>\n",
       "      <td>6 BHK</td>\n",
       "      <td>11338.0</td>\n",
       "      <td>9.0</td>\n",
       "      <td>1000.0</td>\n",
       "      <td>6</td>\n",
       "      <td>8819.897689</td>\n",
       "    </tr>\n",
       "  </tbody>\n",
       "</table>\n",
       "</div>"
      ],
      "text/plain": [
       "           location       size  total_sqft  bath   price  bhk  price_per_sqft\n",
       "1626  Chikkabanavar  4 Bedroom      2460.0   7.0    80.0    4     3252.032520\n",
       "5238     Nagasandra  4 Bedroom      7000.0   8.0   450.0    4     6428.571429\n",
       "6711    Thanisandra      3 BHK      1806.0   6.0   116.0    3     6423.034330\n",
       "8411          other      6 BHK     11338.0   9.0  1000.0    6     8819.897689"
      ]
     },
     "execution_count": 50,
     "metadata": {},
     "output_type": "execute_result"
    }
   ],
   "source": [
    "df8[df8.bath>df8.bhk+2]"
   ]
  },
  {
   "cell_type": "markdown",
   "id": "3a9beeba",
   "metadata": {
    "papermill": {
     "duration": 0.051773,
     "end_time": "2024-09-14T19:33:57.039264",
     "exception": false,
     "start_time": "2024-09-14T19:33:56.987491",
     "status": "completed"
    },
    "tags": []
   },
   "source": [
    "<div class=\"section\"> Again the business manager has a conversation that if you have 4 bedroom home and even if you have bathroom in all 4 rooms plus one guest bathroom, you will have total bath = total bed + 1 max. Anything above that is an outlier or a data error and can be removed </div>"
   ]
  },
  {
   "cell_type": "code",
   "execution_count": 51,
   "id": "f35a834c",
   "metadata": {
    "execution": {
     "iopub.execute_input": "2024-09-14T19:33:57.141511Z",
     "iopub.status.busy": "2024-09-14T19:33:57.140841Z",
     "iopub.status.idle": "2024-09-14T19:33:57.153549Z",
     "shell.execute_reply": "2024-09-14T19:33:57.152241Z"
    },
    "papermill": {
     "duration": 0.067007,
     "end_time": "2024-09-14T19:33:57.156313",
     "exception": false,
     "start_time": "2024-09-14T19:33:57.089306",
     "status": "completed"
    },
    "tags": []
   },
   "outputs": [
    {
     "data": {
      "text/plain": [
       "(7251, 7)"
      ]
     },
     "execution_count": 51,
     "metadata": {},
     "output_type": "execute_result"
    }
   ],
   "source": [
    "df9 = df8[df8.bath<df8.bhk+2]\n",
    "df9.shape"
   ]
  },
  {
   "cell_type": "code",
   "execution_count": 52,
   "id": "c8fe6de7",
   "metadata": {
    "execution": {
     "iopub.execute_input": "2024-09-14T19:33:57.259210Z",
     "iopub.status.busy": "2024-09-14T19:33:57.258596Z",
     "iopub.status.idle": "2024-09-14T19:33:57.281516Z",
     "shell.execute_reply": "2024-09-14T19:33:57.280026Z"
    },
    "papermill": {
     "duration": 0.077109,
     "end_time": "2024-09-14T19:33:57.284081",
     "exception": false,
     "start_time": "2024-09-14T19:33:57.206972",
     "status": "completed"
    },
    "tags": []
   },
   "outputs": [
    {
     "data": {
      "text/html": [
       "<div>\n",
       "<style scoped>\n",
       "    .dataframe tbody tr th:only-of-type {\n",
       "        vertical-align: middle;\n",
       "    }\n",
       "\n",
       "    .dataframe tbody tr th {\n",
       "        vertical-align: top;\n",
       "    }\n",
       "\n",
       "    .dataframe thead th {\n",
       "        text-align: right;\n",
       "    }\n",
       "</style>\n",
       "<table border=\"1\" class=\"dataframe\">\n",
       "  <thead>\n",
       "    <tr style=\"text-align: right;\">\n",
       "      <th></th>\n",
       "      <th>location</th>\n",
       "      <th>size</th>\n",
       "      <th>total_sqft</th>\n",
       "      <th>bath</th>\n",
       "      <th>price</th>\n",
       "      <th>bhk</th>\n",
       "      <th>price_per_sqft</th>\n",
       "    </tr>\n",
       "  </thead>\n",
       "  <tbody>\n",
       "    <tr>\n",
       "      <th>0</th>\n",
       "      <td>1st Block Jayanagar</td>\n",
       "      <td>4 BHK</td>\n",
       "      <td>2850.0</td>\n",
       "      <td>4.0</td>\n",
       "      <td>428.0</td>\n",
       "      <td>4</td>\n",
       "      <td>15017.543860</td>\n",
       "    </tr>\n",
       "    <tr>\n",
       "      <th>1</th>\n",
       "      <td>1st Block Jayanagar</td>\n",
       "      <td>3 BHK</td>\n",
       "      <td>1630.0</td>\n",
       "      <td>3.0</td>\n",
       "      <td>194.0</td>\n",
       "      <td>3</td>\n",
       "      <td>11901.840491</td>\n",
       "    </tr>\n",
       "    <tr>\n",
       "      <th>2</th>\n",
       "      <td>1st Block Jayanagar</td>\n",
       "      <td>3 BHK</td>\n",
       "      <td>1875.0</td>\n",
       "      <td>2.0</td>\n",
       "      <td>235.0</td>\n",
       "      <td>3</td>\n",
       "      <td>12533.333333</td>\n",
       "    </tr>\n",
       "    <tr>\n",
       "      <th>3</th>\n",
       "      <td>1st Block Jayanagar</td>\n",
       "      <td>3 BHK</td>\n",
       "      <td>1200.0</td>\n",
       "      <td>2.0</td>\n",
       "      <td>130.0</td>\n",
       "      <td>3</td>\n",
       "      <td>10833.333333</td>\n",
       "    </tr>\n",
       "    <tr>\n",
       "      <th>4</th>\n",
       "      <td>1st Block Jayanagar</td>\n",
       "      <td>2 BHK</td>\n",
       "      <td>1235.0</td>\n",
       "      <td>2.0</td>\n",
       "      <td>148.0</td>\n",
       "      <td>2</td>\n",
       "      <td>11983.805668</td>\n",
       "    </tr>\n",
       "  </tbody>\n",
       "</table>\n",
       "</div>"
      ],
      "text/plain": [
       "              location   size  total_sqft  bath  price  bhk  price_per_sqft\n",
       "0  1st Block Jayanagar  4 BHK      2850.0   4.0  428.0    4    15017.543860\n",
       "1  1st Block Jayanagar  3 BHK      1630.0   3.0  194.0    3    11901.840491\n",
       "2  1st Block Jayanagar  3 BHK      1875.0   2.0  235.0    3    12533.333333\n",
       "3  1st Block Jayanagar  3 BHK      1200.0   2.0  130.0    3    10833.333333\n",
       "4  1st Block Jayanagar  2 BHK      1235.0   2.0  148.0    2    11983.805668"
      ]
     },
     "execution_count": 52,
     "metadata": {},
     "output_type": "execute_result"
    }
   ],
   "source": [
    "df9.head()"
   ]
  },
  {
   "cell_type": "markdown",
   "id": "f48ec354",
   "metadata": {
    "papermill": {
     "duration": 0.049832,
     "end_time": "2024-09-14T19:33:57.384388",
     "exception": false,
     "start_time": "2024-09-14T19:33:57.334556",
     "status": "completed"
    },
    "tags": []
   },
   "source": [
    "<div class=\"intro2\"> Our Data Now is Neat & Clean </div>"
   ]
  },
  {
   "cell_type": "markdown",
   "id": "f7c59a5c",
   "metadata": {
    "papermill": {
     "duration": 0.05028,
     "end_time": "2024-09-14T19:33:57.485571",
     "exception": false,
     "start_time": "2024-09-14T19:33:57.435291",
     "status": "completed"
    },
    "tags": []
   },
   "source": [
    "<div class=\"section\"> We Will Do Further Processing To Prepare the data for model building in the next steps </div>"
   ]
  },
  {
   "cell_type": "markdown",
   "id": "cfed21ff",
   "metadata": {
    "papermill": {
     "duration": 0.049811,
     "end_time": "2024-09-14T19:33:57.585723",
     "exception": false,
     "start_time": "2024-09-14T19:33:57.535912",
     "status": "completed"
    },
    "tags": []
   },
   "source": [
    "#### We will begin by removing unneccessary features for our models like \"size\" and \"price_per_sqft\""
   ]
  },
  {
   "cell_type": "code",
   "execution_count": 53,
   "id": "ce2e0cb6",
   "metadata": {
    "execution": {
     "iopub.execute_input": "2024-09-14T19:33:57.688066Z",
     "iopub.status.busy": "2024-09-14T19:33:57.687619Z",
     "iopub.status.idle": "2024-09-14T19:33:57.704284Z",
     "shell.execute_reply": "2024-09-14T19:33:57.703143Z"
    },
    "papermill": {
     "duration": 0.072056,
     "end_time": "2024-09-14T19:33:57.707960",
     "exception": false,
     "start_time": "2024-09-14T19:33:57.635904",
     "status": "completed"
    },
    "tags": []
   },
   "outputs": [
    {
     "data": {
      "text/html": [
       "<div>\n",
       "<style scoped>\n",
       "    .dataframe tbody tr th:only-of-type {\n",
       "        vertical-align: middle;\n",
       "    }\n",
       "\n",
       "    .dataframe tbody tr th {\n",
       "        vertical-align: top;\n",
       "    }\n",
       "\n",
       "    .dataframe thead th {\n",
       "        text-align: right;\n",
       "    }\n",
       "</style>\n",
       "<table border=\"1\" class=\"dataframe\">\n",
       "  <thead>\n",
       "    <tr style=\"text-align: right;\">\n",
       "      <th></th>\n",
       "      <th>location</th>\n",
       "      <th>total_sqft</th>\n",
       "      <th>bath</th>\n",
       "      <th>price</th>\n",
       "      <th>bhk</th>\n",
       "    </tr>\n",
       "  </thead>\n",
       "  <tbody>\n",
       "    <tr>\n",
       "      <th>0</th>\n",
       "      <td>1st Block Jayanagar</td>\n",
       "      <td>2850.0</td>\n",
       "      <td>4.0</td>\n",
       "      <td>428.0</td>\n",
       "      <td>4</td>\n",
       "    </tr>\n",
       "    <tr>\n",
       "      <th>1</th>\n",
       "      <td>1st Block Jayanagar</td>\n",
       "      <td>1630.0</td>\n",
       "      <td>3.0</td>\n",
       "      <td>194.0</td>\n",
       "      <td>3</td>\n",
       "    </tr>\n",
       "    <tr>\n",
       "      <th>2</th>\n",
       "      <td>1st Block Jayanagar</td>\n",
       "      <td>1875.0</td>\n",
       "      <td>2.0</td>\n",
       "      <td>235.0</td>\n",
       "      <td>3</td>\n",
       "    </tr>\n",
       "  </tbody>\n",
       "</table>\n",
       "</div>"
      ],
      "text/plain": [
       "              location  total_sqft  bath  price  bhk\n",
       "0  1st Block Jayanagar      2850.0   4.0  428.0    4\n",
       "1  1st Block Jayanagar      1630.0   3.0  194.0    3\n",
       "2  1st Block Jayanagar      1875.0   2.0  235.0    3"
      ]
     },
     "execution_count": 53,
     "metadata": {},
     "output_type": "execute_result"
    }
   ],
   "source": [
    "df10 = df9.drop(['size','price_per_sqft'],axis='columns')\n",
    "df10.head(3)"
   ]
  },
  {
   "cell_type": "markdown",
   "id": "5f052746",
   "metadata": {
    "papermill": {
     "duration": 0.052026,
     "end_time": "2024-09-14T19:33:57.816195",
     "exception": false,
     "start_time": "2024-09-14T19:33:57.764169",
     "status": "completed"
    },
    "tags": []
   },
   "source": [
    "#### The location field needs to be numeric , so we will pandas dummies for one hot encoding "
   ]
  },
  {
   "cell_type": "code",
   "execution_count": 54,
   "id": "cdc6858b",
   "metadata": {
    "execution": {
     "iopub.execute_input": "2024-09-14T19:33:57.928312Z",
     "iopub.status.busy": "2024-09-14T19:33:57.927323Z",
     "iopub.status.idle": "2024-09-14T19:33:57.954357Z",
     "shell.execute_reply": "2024-09-14T19:33:57.952898Z"
    },
    "papermill": {
     "duration": 0.086931,
     "end_time": "2024-09-14T19:33:57.957493",
     "exception": false,
     "start_time": "2024-09-14T19:33:57.870562",
     "status": "completed"
    },
    "tags": []
   },
   "outputs": [
    {
     "data": {
      "text/html": [
       "<div>\n",
       "<style scoped>\n",
       "    .dataframe tbody tr th:only-of-type {\n",
       "        vertical-align: middle;\n",
       "    }\n",
       "\n",
       "    .dataframe tbody tr th {\n",
       "        vertical-align: top;\n",
       "    }\n",
       "\n",
       "    .dataframe thead th {\n",
       "        text-align: right;\n",
       "    }\n",
       "</style>\n",
       "<table border=\"1\" class=\"dataframe\">\n",
       "  <thead>\n",
       "    <tr style=\"text-align: right;\">\n",
       "      <th></th>\n",
       "      <th>1st Block Jayanagar</th>\n",
       "      <th>1st Phase JP Nagar</th>\n",
       "      <th>2nd Phase Judicial Layout</th>\n",
       "      <th>2nd Stage Nagarbhavi</th>\n",
       "      <th>5th Block Hbr Layout</th>\n",
       "      <th>5th Phase JP Nagar</th>\n",
       "      <th>6th Phase JP Nagar</th>\n",
       "      <th>7th Phase JP Nagar</th>\n",
       "      <th>8th Phase JP Nagar</th>\n",
       "      <th>9th Phase JP Nagar</th>\n",
       "      <th>...</th>\n",
       "      <th>Vishveshwarya Layout</th>\n",
       "      <th>Vishwapriya Layout</th>\n",
       "      <th>Vittasandra</th>\n",
       "      <th>Whitefield</th>\n",
       "      <th>Yelachenahalli</th>\n",
       "      <th>Yelahanka</th>\n",
       "      <th>Yelahanka New Town</th>\n",
       "      <th>Yelenahalli</th>\n",
       "      <th>Yeshwanthpur</th>\n",
       "      <th>other</th>\n",
       "    </tr>\n",
       "  </thead>\n",
       "  <tbody>\n",
       "    <tr>\n",
       "      <th>0</th>\n",
       "      <td>True</td>\n",
       "      <td>False</td>\n",
       "      <td>False</td>\n",
       "      <td>False</td>\n",
       "      <td>False</td>\n",
       "      <td>False</td>\n",
       "      <td>False</td>\n",
       "      <td>False</td>\n",
       "      <td>False</td>\n",
       "      <td>False</td>\n",
       "      <td>...</td>\n",
       "      <td>False</td>\n",
       "      <td>False</td>\n",
       "      <td>False</td>\n",
       "      <td>False</td>\n",
       "      <td>False</td>\n",
       "      <td>False</td>\n",
       "      <td>False</td>\n",
       "      <td>False</td>\n",
       "      <td>False</td>\n",
       "      <td>False</td>\n",
       "    </tr>\n",
       "    <tr>\n",
       "      <th>1</th>\n",
       "      <td>True</td>\n",
       "      <td>False</td>\n",
       "      <td>False</td>\n",
       "      <td>False</td>\n",
       "      <td>False</td>\n",
       "      <td>False</td>\n",
       "      <td>False</td>\n",
       "      <td>False</td>\n",
       "      <td>False</td>\n",
       "      <td>False</td>\n",
       "      <td>...</td>\n",
       "      <td>False</td>\n",
       "      <td>False</td>\n",
       "      <td>False</td>\n",
       "      <td>False</td>\n",
       "      <td>False</td>\n",
       "      <td>False</td>\n",
       "      <td>False</td>\n",
       "      <td>False</td>\n",
       "      <td>False</td>\n",
       "      <td>False</td>\n",
       "    </tr>\n",
       "    <tr>\n",
       "      <th>2</th>\n",
       "      <td>True</td>\n",
       "      <td>False</td>\n",
       "      <td>False</td>\n",
       "      <td>False</td>\n",
       "      <td>False</td>\n",
       "      <td>False</td>\n",
       "      <td>False</td>\n",
       "      <td>False</td>\n",
       "      <td>False</td>\n",
       "      <td>False</td>\n",
       "      <td>...</td>\n",
       "      <td>False</td>\n",
       "      <td>False</td>\n",
       "      <td>False</td>\n",
       "      <td>False</td>\n",
       "      <td>False</td>\n",
       "      <td>False</td>\n",
       "      <td>False</td>\n",
       "      <td>False</td>\n",
       "      <td>False</td>\n",
       "      <td>False</td>\n",
       "    </tr>\n",
       "  </tbody>\n",
       "</table>\n",
       "<p>3 rows × 242 columns</p>\n",
       "</div>"
      ],
      "text/plain": [
       "   1st Block Jayanagar  1st Phase JP Nagar  2nd Phase Judicial Layout  \\\n",
       "0                 True               False                      False   \n",
       "1                 True               False                      False   \n",
       "2                 True               False                      False   \n",
       "\n",
       "   2nd Stage Nagarbhavi  5th Block Hbr Layout  5th Phase JP Nagar  \\\n",
       "0                 False                 False               False   \n",
       "1                 False                 False               False   \n",
       "2                 False                 False               False   \n",
       "\n",
       "   6th Phase JP Nagar  7th Phase JP Nagar  8th Phase JP Nagar  \\\n",
       "0               False               False               False   \n",
       "1               False               False               False   \n",
       "2               False               False               False   \n",
       "\n",
       "   9th Phase JP Nagar  ...  Vishveshwarya Layout  Vishwapriya Layout  \\\n",
       "0               False  ...                 False               False   \n",
       "1               False  ...                 False               False   \n",
       "2               False  ...                 False               False   \n",
       "\n",
       "   Vittasandra  Whitefield  Yelachenahalli  Yelahanka  Yelahanka New Town  \\\n",
       "0        False       False           False      False               False   \n",
       "1        False       False           False      False               False   \n",
       "2        False       False           False      False               False   \n",
       "\n",
       "   Yelenahalli  Yeshwanthpur  other  \n",
       "0        False         False  False  \n",
       "1        False         False  False  \n",
       "2        False         False  False  \n",
       "\n",
       "[3 rows x 242 columns]"
      ]
     },
     "execution_count": 54,
     "metadata": {},
     "output_type": "execute_result"
    }
   ],
   "source": [
    "dummies = pd.get_dummies(df10.location)\n",
    "dummies.head(3)"
   ]
  },
  {
   "cell_type": "code",
   "execution_count": 55,
   "id": "0b2555a3",
   "metadata": {
    "execution": {
     "iopub.execute_input": "2024-09-14T19:33:58.068696Z",
     "iopub.status.busy": "2024-09-14T19:33:58.067307Z",
     "iopub.status.idle": "2024-09-14T19:33:58.101071Z",
     "shell.execute_reply": "2024-09-14T19:33:58.099584Z"
    },
    "papermill": {
     "duration": 0.092162,
     "end_time": "2024-09-14T19:33:58.104453",
     "exception": false,
     "start_time": "2024-09-14T19:33:58.012291",
     "status": "completed"
    },
    "tags": []
   },
   "outputs": [
    {
     "data": {
      "text/html": [
       "<div>\n",
       "<style scoped>\n",
       "    .dataframe tbody tr th:only-of-type {\n",
       "        vertical-align: middle;\n",
       "    }\n",
       "\n",
       "    .dataframe tbody tr th {\n",
       "        vertical-align: top;\n",
       "    }\n",
       "\n",
       "    .dataframe thead th {\n",
       "        text-align: right;\n",
       "    }\n",
       "</style>\n",
       "<table border=\"1\" class=\"dataframe\">\n",
       "  <thead>\n",
       "    <tr style=\"text-align: right;\">\n",
       "      <th></th>\n",
       "      <th>location</th>\n",
       "      <th>total_sqft</th>\n",
       "      <th>bath</th>\n",
       "      <th>price</th>\n",
       "      <th>bhk</th>\n",
       "      <th>1st Block Jayanagar</th>\n",
       "      <th>1st Phase JP Nagar</th>\n",
       "      <th>2nd Phase Judicial Layout</th>\n",
       "      <th>2nd Stage Nagarbhavi</th>\n",
       "      <th>5th Block Hbr Layout</th>\n",
       "      <th>...</th>\n",
       "      <th>Vijayanagar</th>\n",
       "      <th>Vishveshwarya Layout</th>\n",
       "      <th>Vishwapriya Layout</th>\n",
       "      <th>Vittasandra</th>\n",
       "      <th>Whitefield</th>\n",
       "      <th>Yelachenahalli</th>\n",
       "      <th>Yelahanka</th>\n",
       "      <th>Yelahanka New Town</th>\n",
       "      <th>Yelenahalli</th>\n",
       "      <th>Yeshwanthpur</th>\n",
       "    </tr>\n",
       "  </thead>\n",
       "  <tbody>\n",
       "    <tr>\n",
       "      <th>0</th>\n",
       "      <td>1st Block Jayanagar</td>\n",
       "      <td>2850.0</td>\n",
       "      <td>4.0</td>\n",
       "      <td>428.0</td>\n",
       "      <td>4</td>\n",
       "      <td>True</td>\n",
       "      <td>False</td>\n",
       "      <td>False</td>\n",
       "      <td>False</td>\n",
       "      <td>False</td>\n",
       "      <td>...</td>\n",
       "      <td>False</td>\n",
       "      <td>False</td>\n",
       "      <td>False</td>\n",
       "      <td>False</td>\n",
       "      <td>False</td>\n",
       "      <td>False</td>\n",
       "      <td>False</td>\n",
       "      <td>False</td>\n",
       "      <td>False</td>\n",
       "      <td>False</td>\n",
       "    </tr>\n",
       "    <tr>\n",
       "      <th>1</th>\n",
       "      <td>1st Block Jayanagar</td>\n",
       "      <td>1630.0</td>\n",
       "      <td>3.0</td>\n",
       "      <td>194.0</td>\n",
       "      <td>3</td>\n",
       "      <td>True</td>\n",
       "      <td>False</td>\n",
       "      <td>False</td>\n",
       "      <td>False</td>\n",
       "      <td>False</td>\n",
       "      <td>...</td>\n",
       "      <td>False</td>\n",
       "      <td>False</td>\n",
       "      <td>False</td>\n",
       "      <td>False</td>\n",
       "      <td>False</td>\n",
       "      <td>False</td>\n",
       "      <td>False</td>\n",
       "      <td>False</td>\n",
       "      <td>False</td>\n",
       "      <td>False</td>\n",
       "    </tr>\n",
       "    <tr>\n",
       "      <th>2</th>\n",
       "      <td>1st Block Jayanagar</td>\n",
       "      <td>1875.0</td>\n",
       "      <td>2.0</td>\n",
       "      <td>235.0</td>\n",
       "      <td>3</td>\n",
       "      <td>True</td>\n",
       "      <td>False</td>\n",
       "      <td>False</td>\n",
       "      <td>False</td>\n",
       "      <td>False</td>\n",
       "      <td>...</td>\n",
       "      <td>False</td>\n",
       "      <td>False</td>\n",
       "      <td>False</td>\n",
       "      <td>False</td>\n",
       "      <td>False</td>\n",
       "      <td>False</td>\n",
       "      <td>False</td>\n",
       "      <td>False</td>\n",
       "      <td>False</td>\n",
       "      <td>False</td>\n",
       "    </tr>\n",
       "    <tr>\n",
       "      <th>3</th>\n",
       "      <td>1st Block Jayanagar</td>\n",
       "      <td>1200.0</td>\n",
       "      <td>2.0</td>\n",
       "      <td>130.0</td>\n",
       "      <td>3</td>\n",
       "      <td>True</td>\n",
       "      <td>False</td>\n",
       "      <td>False</td>\n",
       "      <td>False</td>\n",
       "      <td>False</td>\n",
       "      <td>...</td>\n",
       "      <td>False</td>\n",
       "      <td>False</td>\n",
       "      <td>False</td>\n",
       "      <td>False</td>\n",
       "      <td>False</td>\n",
       "      <td>False</td>\n",
       "      <td>False</td>\n",
       "      <td>False</td>\n",
       "      <td>False</td>\n",
       "      <td>False</td>\n",
       "    </tr>\n",
       "    <tr>\n",
       "      <th>4</th>\n",
       "      <td>1st Block Jayanagar</td>\n",
       "      <td>1235.0</td>\n",
       "      <td>2.0</td>\n",
       "      <td>148.0</td>\n",
       "      <td>2</td>\n",
       "      <td>True</td>\n",
       "      <td>False</td>\n",
       "      <td>False</td>\n",
       "      <td>False</td>\n",
       "      <td>False</td>\n",
       "      <td>...</td>\n",
       "      <td>False</td>\n",
       "      <td>False</td>\n",
       "      <td>False</td>\n",
       "      <td>False</td>\n",
       "      <td>False</td>\n",
       "      <td>False</td>\n",
       "      <td>False</td>\n",
       "      <td>False</td>\n",
       "      <td>False</td>\n",
       "      <td>False</td>\n",
       "    </tr>\n",
       "  </tbody>\n",
       "</table>\n",
       "<p>5 rows × 246 columns</p>\n",
       "</div>"
      ],
      "text/plain": [
       "              location  total_sqft  bath  price  bhk  1st Block Jayanagar  \\\n",
       "0  1st Block Jayanagar      2850.0   4.0  428.0    4                 True   \n",
       "1  1st Block Jayanagar      1630.0   3.0  194.0    3                 True   \n",
       "2  1st Block Jayanagar      1875.0   2.0  235.0    3                 True   \n",
       "3  1st Block Jayanagar      1200.0   2.0  130.0    3                 True   \n",
       "4  1st Block Jayanagar      1235.0   2.0  148.0    2                 True   \n",
       "\n",
       "   1st Phase JP Nagar  2nd Phase Judicial Layout  2nd Stage Nagarbhavi  \\\n",
       "0               False                      False                 False   \n",
       "1               False                      False                 False   \n",
       "2               False                      False                 False   \n",
       "3               False                      False                 False   \n",
       "4               False                      False                 False   \n",
       "\n",
       "   5th Block Hbr Layout  ...  Vijayanagar  Vishveshwarya Layout  \\\n",
       "0                 False  ...        False                 False   \n",
       "1                 False  ...        False                 False   \n",
       "2                 False  ...        False                 False   \n",
       "3                 False  ...        False                 False   \n",
       "4                 False  ...        False                 False   \n",
       "\n",
       "   Vishwapriya Layout  Vittasandra  Whitefield  Yelachenahalli  Yelahanka  \\\n",
       "0               False        False       False           False      False   \n",
       "1               False        False       False           False      False   \n",
       "2               False        False       False           False      False   \n",
       "3               False        False       False           False      False   \n",
       "4               False        False       False           False      False   \n",
       "\n",
       "   Yelahanka New Town  Yelenahalli  Yeshwanthpur  \n",
       "0               False        False         False  \n",
       "1               False        False         False  \n",
       "2               False        False         False  \n",
       "3               False        False         False  \n",
       "4               False        False         False  \n",
       "\n",
       "[5 rows x 246 columns]"
      ]
     },
     "execution_count": 55,
     "metadata": {},
     "output_type": "execute_result"
    }
   ],
   "source": [
    "df11 = pd.concat([df10,dummies.drop('other',axis='columns')],axis='columns')\n",
    "df11.head()"
   ]
  },
  {
   "cell_type": "code",
   "execution_count": 56,
   "id": "bb21bdfa",
   "metadata": {
    "execution": {
     "iopub.execute_input": "2024-09-14T19:33:58.217624Z",
     "iopub.status.busy": "2024-09-14T19:33:58.216290Z",
     "iopub.status.idle": "2024-09-14T19:33:58.244168Z",
     "shell.execute_reply": "2024-09-14T19:33:58.242930Z"
    },
    "papermill": {
     "duration": 0.087955,
     "end_time": "2024-09-14T19:33:58.247221",
     "exception": false,
     "start_time": "2024-09-14T19:33:58.159266",
     "status": "completed"
    },
    "tags": []
   },
   "outputs": [
    {
     "data": {
      "text/html": [
       "<div>\n",
       "<style scoped>\n",
       "    .dataframe tbody tr th:only-of-type {\n",
       "        vertical-align: middle;\n",
       "    }\n",
       "\n",
       "    .dataframe tbody tr th {\n",
       "        vertical-align: top;\n",
       "    }\n",
       "\n",
       "    .dataframe thead th {\n",
       "        text-align: right;\n",
       "    }\n",
       "</style>\n",
       "<table border=\"1\" class=\"dataframe\">\n",
       "  <thead>\n",
       "    <tr style=\"text-align: right;\">\n",
       "      <th></th>\n",
       "      <th>total_sqft</th>\n",
       "      <th>bath</th>\n",
       "      <th>price</th>\n",
       "      <th>bhk</th>\n",
       "      <th>1st Block Jayanagar</th>\n",
       "      <th>1st Phase JP Nagar</th>\n",
       "      <th>2nd Phase Judicial Layout</th>\n",
       "      <th>2nd Stage Nagarbhavi</th>\n",
       "      <th>5th Block Hbr Layout</th>\n",
       "      <th>5th Phase JP Nagar</th>\n",
       "      <th>...</th>\n",
       "      <th>Vijayanagar</th>\n",
       "      <th>Vishveshwarya Layout</th>\n",
       "      <th>Vishwapriya Layout</th>\n",
       "      <th>Vittasandra</th>\n",
       "      <th>Whitefield</th>\n",
       "      <th>Yelachenahalli</th>\n",
       "      <th>Yelahanka</th>\n",
       "      <th>Yelahanka New Town</th>\n",
       "      <th>Yelenahalli</th>\n",
       "      <th>Yeshwanthpur</th>\n",
       "    </tr>\n",
       "  </thead>\n",
       "  <tbody>\n",
       "    <tr>\n",
       "      <th>0</th>\n",
       "      <td>2850.0</td>\n",
       "      <td>4.0</td>\n",
       "      <td>428.0</td>\n",
       "      <td>4</td>\n",
       "      <td>True</td>\n",
       "      <td>False</td>\n",
       "      <td>False</td>\n",
       "      <td>False</td>\n",
       "      <td>False</td>\n",
       "      <td>False</td>\n",
       "      <td>...</td>\n",
       "      <td>False</td>\n",
       "      <td>False</td>\n",
       "      <td>False</td>\n",
       "      <td>False</td>\n",
       "      <td>False</td>\n",
       "      <td>False</td>\n",
       "      <td>False</td>\n",
       "      <td>False</td>\n",
       "      <td>False</td>\n",
       "      <td>False</td>\n",
       "    </tr>\n",
       "    <tr>\n",
       "      <th>1</th>\n",
       "      <td>1630.0</td>\n",
       "      <td>3.0</td>\n",
       "      <td>194.0</td>\n",
       "      <td>3</td>\n",
       "      <td>True</td>\n",
       "      <td>False</td>\n",
       "      <td>False</td>\n",
       "      <td>False</td>\n",
       "      <td>False</td>\n",
       "      <td>False</td>\n",
       "      <td>...</td>\n",
       "      <td>False</td>\n",
       "      <td>False</td>\n",
       "      <td>False</td>\n",
       "      <td>False</td>\n",
       "      <td>False</td>\n",
       "      <td>False</td>\n",
       "      <td>False</td>\n",
       "      <td>False</td>\n",
       "      <td>False</td>\n",
       "      <td>False</td>\n",
       "    </tr>\n",
       "  </tbody>\n",
       "</table>\n",
       "<p>2 rows × 245 columns</p>\n",
       "</div>"
      ],
      "text/plain": [
       "   total_sqft  bath  price  bhk  1st Block Jayanagar  1st Phase JP Nagar  \\\n",
       "0      2850.0   4.0  428.0    4                 True               False   \n",
       "1      1630.0   3.0  194.0    3                 True               False   \n",
       "\n",
       "   2nd Phase Judicial Layout  2nd Stage Nagarbhavi  5th Block Hbr Layout  \\\n",
       "0                      False                 False                 False   \n",
       "1                      False                 False                 False   \n",
       "\n",
       "   5th Phase JP Nagar  ...  Vijayanagar  Vishveshwarya Layout  \\\n",
       "0               False  ...        False                 False   \n",
       "1               False  ...        False                 False   \n",
       "\n",
       "   Vishwapriya Layout  Vittasandra  Whitefield  Yelachenahalli  Yelahanka  \\\n",
       "0               False        False       False           False      False   \n",
       "1               False        False       False           False      False   \n",
       "\n",
       "   Yelahanka New Town  Yelenahalli  Yeshwanthpur  \n",
       "0               False        False         False  \n",
       "1               False        False         False  \n",
       "\n",
       "[2 rows x 245 columns]"
      ]
     },
     "execution_count": 56,
     "metadata": {},
     "output_type": "execute_result"
    }
   ],
   "source": [
    "df12 = df11.drop('location',axis='columns')\n",
    "df12.head(2)"
   ]
  },
  {
   "cell_type": "markdown",
   "id": "599147fb",
   "metadata": {
    "papermill": {
     "duration": 0.053946,
     "end_time": "2024-09-14T19:33:58.355241",
     "exception": false,
     "start_time": "2024-09-14T19:33:58.301295",
     "status": "completed"
    },
    "tags": []
   },
   "source": [
    "<div class=\"intro\"> End Of Data Cleaning & Preprocessing</div>"
   ]
  },
  {
   "cell_type": "markdown",
   "id": "517a6069",
   "metadata": {
    "papermill": {
     "duration": 0.053003,
     "end_time": "2024-09-14T19:33:58.461793",
     "exception": false,
     "start_time": "2024-09-14T19:33:58.408790",
     "status": "completed"
    },
    "tags": []
   },
   "source": [
    "# <center> <span style=\"font-family:Playfair Display\"> <span style=\"color:white;display:fill;border-radius:8px;background-color:#a02933;font-size:100%;font-weight: bold;\">Model Building</span><a id=\"1\"></a> "
   ]
  },
  {
   "cell_type": "code",
   "execution_count": 57,
   "id": "9f663b5c",
   "metadata": {
    "execution": {
     "iopub.execute_input": "2024-09-14T19:33:58.572482Z",
     "iopub.status.busy": "2024-09-14T19:33:58.571989Z",
     "iopub.status.idle": "2024-09-14T19:33:58.580289Z",
     "shell.execute_reply": "2024-09-14T19:33:58.578831Z"
    },
    "papermill": {
     "duration": 0.067152,
     "end_time": "2024-09-14T19:33:58.582940",
     "exception": false,
     "start_time": "2024-09-14T19:33:58.515788",
     "status": "completed"
    },
    "tags": []
   },
   "outputs": [
    {
     "data": {
      "text/plain": [
       "(7251, 245)"
      ]
     },
     "execution_count": 57,
     "metadata": {},
     "output_type": "execute_result"
    }
   ],
   "source": [
    "df12.shape"
   ]
  },
  {
   "cell_type": "code",
   "execution_count": 58,
   "id": "a6ddcae4",
   "metadata": {
    "execution": {
     "iopub.execute_input": "2024-09-14T19:33:58.695065Z",
     "iopub.status.busy": "2024-09-14T19:33:58.693446Z",
     "iopub.status.idle": "2024-09-14T19:33:58.724946Z",
     "shell.execute_reply": "2024-09-14T19:33:58.723513Z"
    },
    "papermill": {
     "duration": 0.089914,
     "end_time": "2024-09-14T19:33:58.727709",
     "exception": false,
     "start_time": "2024-09-14T19:33:58.637795",
     "status": "completed"
    },
    "tags": []
   },
   "outputs": [
    {
     "data": {
      "text/html": [
       "<div>\n",
       "<style scoped>\n",
       "    .dataframe tbody tr th:only-of-type {\n",
       "        vertical-align: middle;\n",
       "    }\n",
       "\n",
       "    .dataframe tbody tr th {\n",
       "        vertical-align: top;\n",
       "    }\n",
       "\n",
       "    .dataframe thead th {\n",
       "        text-align: right;\n",
       "    }\n",
       "</style>\n",
       "<table border=\"1\" class=\"dataframe\">\n",
       "  <thead>\n",
       "    <tr style=\"text-align: right;\">\n",
       "      <th></th>\n",
       "      <th>total_sqft</th>\n",
       "      <th>bath</th>\n",
       "      <th>bhk</th>\n",
       "      <th>1st Block Jayanagar</th>\n",
       "      <th>1st Phase JP Nagar</th>\n",
       "      <th>2nd Phase Judicial Layout</th>\n",
       "      <th>2nd Stage Nagarbhavi</th>\n",
       "      <th>5th Block Hbr Layout</th>\n",
       "      <th>5th Phase JP Nagar</th>\n",
       "      <th>6th Phase JP Nagar</th>\n",
       "      <th>...</th>\n",
       "      <th>Vijayanagar</th>\n",
       "      <th>Vishveshwarya Layout</th>\n",
       "      <th>Vishwapriya Layout</th>\n",
       "      <th>Vittasandra</th>\n",
       "      <th>Whitefield</th>\n",
       "      <th>Yelachenahalli</th>\n",
       "      <th>Yelahanka</th>\n",
       "      <th>Yelahanka New Town</th>\n",
       "      <th>Yelenahalli</th>\n",
       "      <th>Yeshwanthpur</th>\n",
       "    </tr>\n",
       "  </thead>\n",
       "  <tbody>\n",
       "    <tr>\n",
       "      <th>0</th>\n",
       "      <td>2850.0</td>\n",
       "      <td>4.0</td>\n",
       "      <td>4</td>\n",
       "      <td>True</td>\n",
       "      <td>False</td>\n",
       "      <td>False</td>\n",
       "      <td>False</td>\n",
       "      <td>False</td>\n",
       "      <td>False</td>\n",
       "      <td>False</td>\n",
       "      <td>...</td>\n",
       "      <td>False</td>\n",
       "      <td>False</td>\n",
       "      <td>False</td>\n",
       "      <td>False</td>\n",
       "      <td>False</td>\n",
       "      <td>False</td>\n",
       "      <td>False</td>\n",
       "      <td>False</td>\n",
       "      <td>False</td>\n",
       "      <td>False</td>\n",
       "    </tr>\n",
       "    <tr>\n",
       "      <th>1</th>\n",
       "      <td>1630.0</td>\n",
       "      <td>3.0</td>\n",
       "      <td>3</td>\n",
       "      <td>True</td>\n",
       "      <td>False</td>\n",
       "      <td>False</td>\n",
       "      <td>False</td>\n",
       "      <td>False</td>\n",
       "      <td>False</td>\n",
       "      <td>False</td>\n",
       "      <td>...</td>\n",
       "      <td>False</td>\n",
       "      <td>False</td>\n",
       "      <td>False</td>\n",
       "      <td>False</td>\n",
       "      <td>False</td>\n",
       "      <td>False</td>\n",
       "      <td>False</td>\n",
       "      <td>False</td>\n",
       "      <td>False</td>\n",
       "      <td>False</td>\n",
       "    </tr>\n",
       "    <tr>\n",
       "      <th>2</th>\n",
       "      <td>1875.0</td>\n",
       "      <td>2.0</td>\n",
       "      <td>3</td>\n",
       "      <td>True</td>\n",
       "      <td>False</td>\n",
       "      <td>False</td>\n",
       "      <td>False</td>\n",
       "      <td>False</td>\n",
       "      <td>False</td>\n",
       "      <td>False</td>\n",
       "      <td>...</td>\n",
       "      <td>False</td>\n",
       "      <td>False</td>\n",
       "      <td>False</td>\n",
       "      <td>False</td>\n",
       "      <td>False</td>\n",
       "      <td>False</td>\n",
       "      <td>False</td>\n",
       "      <td>False</td>\n",
       "      <td>False</td>\n",
       "      <td>False</td>\n",
       "    </tr>\n",
       "    <tr>\n",
       "      <th>3</th>\n",
       "      <td>1200.0</td>\n",
       "      <td>2.0</td>\n",
       "      <td>3</td>\n",
       "      <td>True</td>\n",
       "      <td>False</td>\n",
       "      <td>False</td>\n",
       "      <td>False</td>\n",
       "      <td>False</td>\n",
       "      <td>False</td>\n",
       "      <td>False</td>\n",
       "      <td>...</td>\n",
       "      <td>False</td>\n",
       "      <td>False</td>\n",
       "      <td>False</td>\n",
       "      <td>False</td>\n",
       "      <td>False</td>\n",
       "      <td>False</td>\n",
       "      <td>False</td>\n",
       "      <td>False</td>\n",
       "      <td>False</td>\n",
       "      <td>False</td>\n",
       "    </tr>\n",
       "    <tr>\n",
       "      <th>4</th>\n",
       "      <td>1235.0</td>\n",
       "      <td>2.0</td>\n",
       "      <td>2</td>\n",
       "      <td>True</td>\n",
       "      <td>False</td>\n",
       "      <td>False</td>\n",
       "      <td>False</td>\n",
       "      <td>False</td>\n",
       "      <td>False</td>\n",
       "      <td>False</td>\n",
       "      <td>...</td>\n",
       "      <td>False</td>\n",
       "      <td>False</td>\n",
       "      <td>False</td>\n",
       "      <td>False</td>\n",
       "      <td>False</td>\n",
       "      <td>False</td>\n",
       "      <td>False</td>\n",
       "      <td>False</td>\n",
       "      <td>False</td>\n",
       "      <td>False</td>\n",
       "    </tr>\n",
       "  </tbody>\n",
       "</table>\n",
       "<p>5 rows × 244 columns</p>\n",
       "</div>"
      ],
      "text/plain": [
       "   total_sqft  bath  bhk  1st Block Jayanagar  1st Phase JP Nagar  \\\n",
       "0      2850.0   4.0    4                 True               False   \n",
       "1      1630.0   3.0    3                 True               False   \n",
       "2      1875.0   2.0    3                 True               False   \n",
       "3      1200.0   2.0    3                 True               False   \n",
       "4      1235.0   2.0    2                 True               False   \n",
       "\n",
       "   2nd Phase Judicial Layout  2nd Stage Nagarbhavi  5th Block Hbr Layout  \\\n",
       "0                      False                 False                 False   \n",
       "1                      False                 False                 False   \n",
       "2                      False                 False                 False   \n",
       "3                      False                 False                 False   \n",
       "4                      False                 False                 False   \n",
       "\n",
       "   5th Phase JP Nagar  6th Phase JP Nagar  ...  Vijayanagar  \\\n",
       "0               False               False  ...        False   \n",
       "1               False               False  ...        False   \n",
       "2               False               False  ...        False   \n",
       "3               False               False  ...        False   \n",
       "4               False               False  ...        False   \n",
       "\n",
       "   Vishveshwarya Layout  Vishwapriya Layout  Vittasandra  Whitefield  \\\n",
       "0                 False               False        False       False   \n",
       "1                 False               False        False       False   \n",
       "2                 False               False        False       False   \n",
       "3                 False               False        False       False   \n",
       "4                 False               False        False       False   \n",
       "\n",
       "   Yelachenahalli  Yelahanka  Yelahanka New Town  Yelenahalli  Yeshwanthpur  \n",
       "0           False      False               False        False         False  \n",
       "1           False      False               False        False         False  \n",
       "2           False      False               False        False         False  \n",
       "3           False      False               False        False         False  \n",
       "4           False      False               False        False         False  \n",
       "\n",
       "[5 rows x 244 columns]"
      ]
     },
     "execution_count": 58,
     "metadata": {},
     "output_type": "execute_result"
    }
   ],
   "source": [
    "X = df12.drop('price',axis='columns')\n",
    "X.head()"
   ]
  },
  {
   "cell_type": "code",
   "execution_count": 59,
   "id": "d3be00f5",
   "metadata": {
    "execution": {
     "iopub.execute_input": "2024-09-14T19:33:58.835941Z",
     "iopub.status.busy": "2024-09-14T19:33:58.835409Z",
     "iopub.status.idle": "2024-09-14T19:33:58.845840Z",
     "shell.execute_reply": "2024-09-14T19:33:58.844651Z"
    },
    "papermill": {
     "duration": 0.066944,
     "end_time": "2024-09-14T19:33:58.848424",
     "exception": false,
     "start_time": "2024-09-14T19:33:58.781480",
     "status": "completed"
    },
    "tags": []
   },
   "outputs": [
    {
     "data": {
      "text/plain": [
       "0    428.0\n",
       "1    194.0\n",
       "2    235.0\n",
       "3    130.0\n",
       "4    148.0\n",
       "Name: price, dtype: float64"
      ]
     },
     "execution_count": 59,
     "metadata": {},
     "output_type": "execute_result"
    }
   ],
   "source": [
    "y = df12.price\n",
    "y.head()"
   ]
  },
  {
   "cell_type": "markdown",
   "id": "ce6203e9",
   "metadata": {
    "papermill": {
     "duration": 0.054278,
     "end_time": "2024-09-14T19:33:58.958569",
     "exception": false,
     "start_time": "2024-09-14T19:33:58.904291",
     "status": "completed"
    },
    "tags": []
   },
   "source": [
    "<div class=\"section\"> Dividing Our Data Intro Train_Test Split </div>"
   ]
  },
  {
   "cell_type": "code",
   "execution_count": 60,
   "id": "c5afcad5",
   "metadata": {
    "execution": {
     "iopub.execute_input": "2024-09-14T19:33:59.071655Z",
     "iopub.status.busy": "2024-09-14T19:33:59.071110Z",
     "iopub.status.idle": "2024-09-14T19:34:00.763402Z",
     "shell.execute_reply": "2024-09-14T19:34:00.761952Z"
    },
    "papermill": {
     "duration": 1.751622,
     "end_time": "2024-09-14T19:34:00.766713",
     "exception": false,
     "start_time": "2024-09-14T19:33:59.015091",
     "status": "completed"
    },
    "tags": []
   },
   "outputs": [],
   "source": [
    "from sklearn.model_selection import train_test_split\n",
    "X_train, X_test, y_train, y_test = train_test_split(X,y,test_size=0.2,random_state=10)"
   ]
  },
  {
   "cell_type": "markdown",
   "id": "8958eeab",
   "metadata": {
    "papermill": {
     "duration": 0.055352,
     "end_time": "2024-09-14T19:34:00.877093",
     "exception": false,
     "start_time": "2024-09-14T19:34:00.821741",
     "status": "completed"
    },
    "tags": []
   },
   "source": [
    "#### We have made the test_size = 0.2 which mean we want 20% of our sample to be test sample so we can evaluate our model on them "
   ]
  },
  {
   "cell_type": "markdown",
   "id": "b7ed35c2",
   "metadata": {
    "papermill": {
     "duration": 0.143638,
     "end_time": "2024-09-14T19:34:01.075373",
     "exception": false,
     "start_time": "2024-09-14T19:34:00.931735",
     "status": "completed"
    },
    "tags": []
   },
   "source": [
    "<div class=\"intro\"> Linear Regression Model </div>"
   ]
  },
  {
   "cell_type": "markdown",
   "id": "ce9333aa",
   "metadata": {
    "papermill": {
     "duration": 0.054183,
     "end_time": "2024-09-14T19:34:01.185543",
     "exception": false,
     "start_time": "2024-09-14T19:34:01.131360",
     "status": "completed"
    },
    "tags": []
   },
   "source": [
    "<div style=\"text-align: center;\">\n",
    "    <img src=\"https://media.geeksforgeeks.org/wp-content/uploads/20231129130431/11111111.png\" alt=\"alzheimers\" style=\"width:7500px; height:auto; border-radius: 30px;\">\n",
    "</div>"
   ]
  },
  {
   "cell_type": "markdown",
   "id": "9e7e142c",
   "metadata": {
    "papermill": {
     "duration": 0.053539,
     "end_time": "2024-09-14T19:34:01.294156",
     "exception": false,
     "start_time": "2024-09-14T19:34:01.240617",
     "status": "completed"
    },
    "tags": []
   },
   "source": [
    "<div class=\"intro2\">Linear regression is a crucial statistical method employed to model the relationship between a dependent variable (often referred to as the target) and one or more independent variables (often referred to as features). The goal of linear regression is to find the best-fitting linear equation that describes the relationship between these variables.</div>"
   ]
  },
  {
   "cell_type": "markdown",
   "id": "83719e42",
   "metadata": {
    "papermill": {
     "duration": 0.053507,
     "end_time": "2024-09-14T19:34:01.401828",
     "exception": false,
     "start_time": "2024-09-14T19:34:01.348321",
     "status": "completed"
    },
    "tags": []
   },
   "source": [
    "<div class=\"section\"> I have chose Linear Regression Model due to these reasons : \n",
    "    \n",
    "\n",
    "1. Simple and Interpretable\n",
    "    \n",
    "Linear regression assumes a linear relationship between the input features and the target variable, which makes it easy to understand and interpret. For example, if the coefficient for square footage is positive, it indicates that as the square footage increases, the price of the house is expected to increase.\n",
    "    \n",
    "2. Works Well for Numerical Data\n",
    "    \n",
    "Our data here  involves many numerical features (size, number of rooms, etc.). Linear regression is well-suited for modeling relationships in numerical data, making it a natural choice for this problem.\n",
    "    \n",
    "3. Fast and Efficient\n",
    "    \n",
    "Linear regression is computationally efficient, even for large datasets, which is crucial when dealing with a large number of house sales records.\n",
    "\n",
    "4. Can Handle Multiple Features\n",
    "    \n",
    "Linear regression can easily incorporate multiple features (multivariate linear regression). For instance, features like the number of rooms, location, and distance to schools can all be included in the model to predict our house prices.\n",
    "    \n",
    "\n",
    "</div>"
   ]
  },
  {
   "cell_type": "code",
   "execution_count": 61,
   "id": "3c1a5534",
   "metadata": {
    "execution": {
     "iopub.execute_input": "2024-09-14T19:34:01.513083Z",
     "iopub.status.busy": "2024-09-14T19:34:01.511842Z",
     "iopub.status.idle": "2024-09-14T19:34:01.864262Z",
     "shell.execute_reply": "2024-09-14T19:34:01.862568Z"
    },
    "papermill": {
     "duration": 0.411613,
     "end_time": "2024-09-14T19:34:01.867746",
     "exception": false,
     "start_time": "2024-09-14T19:34:01.456133",
     "status": "completed"
    },
    "tags": []
   },
   "outputs": [
    {
     "data": {
      "text/plain": [
       "0.8452277697873977"
      ]
     },
     "execution_count": 61,
     "metadata": {},
     "output_type": "execute_result"
    }
   ],
   "source": [
    "from sklearn.linear_model  import LinearRegression\n",
    "lr_clf = LinearRegression()\n",
    "lr_clf.fit(X_train,y_train)\n",
    "lr_clf.score(X_test,y_test)"
   ]
  },
  {
   "cell_type": "markdown",
   "id": "f82095b9",
   "metadata": {
    "papermill": {
     "duration": 0.05401,
     "end_time": "2024-09-14T19:34:02.039305",
     "exception": false,
     "start_time": "2024-09-14T19:34:01.985295",
     "status": "completed"
    },
    "tags": []
   },
   "source": [
    "#### 84.5% is decent result , but lets Use K Fold cross validation to measure accuracy of our LinearRegression model"
   ]
  },
  {
   "cell_type": "code",
   "execution_count": 62,
   "id": "3704aa9c",
   "metadata": {
    "execution": {
     "iopub.execute_input": "2024-09-14T19:34:02.147294Z",
     "iopub.status.busy": "2024-09-14T19:34:02.146782Z",
     "iopub.status.idle": "2024-09-14T19:34:03.311650Z",
     "shell.execute_reply": "2024-09-14T19:34:03.310218Z"
    },
    "papermill": {
     "duration": 1.224386,
     "end_time": "2024-09-14T19:34:03.315502",
     "exception": false,
     "start_time": "2024-09-14T19:34:02.091116",
     "status": "completed"
    },
    "tags": []
   },
   "outputs": [
    {
     "data": {
      "text/plain": [
       "array([0.82430186, 0.77166234, 0.85089567, 0.80837764, 0.83653286])"
      ]
     },
     "execution_count": 62,
     "metadata": {},
     "output_type": "execute_result"
    }
   ],
   "source": [
    "from sklearn.model_selection import ShuffleSplit \n",
    "from sklearn.model_selection import cross_val_score\n",
    "\n",
    "cv = ShuffleSplit(n_splits = 5, test_size = 0.2, random_state = 0)\n",
    "\n",
    "cross_val_score(LinearRegression(), X, y , cv=cv)"
   ]
  },
  {
   "cell_type": "markdown",
   "id": "b4ab0c0b",
   "metadata": {
    "papermill": {
     "duration": 0.053941,
     "end_time": "2024-09-14T19:34:03.496356",
     "exception": false,
     "start_time": "2024-09-14T19:34:03.442415",
     "status": "completed"
    },
    "tags": []
   },
   "source": [
    "#### MMMM. so the majority of our result is above 80% , so looking good so far "
   ]
  },
  {
   "cell_type": "markdown",
   "id": "f854a5e9",
   "metadata": {
    "papermill": {
     "duration": 0.054133,
     "end_time": "2024-09-14T19:34:03.604997",
     "exception": false,
     "start_time": "2024-09-14T19:34:03.550864",
     "status": "completed"
    },
    "tags": []
   },
   "source": [
    "### Using GridSearchCv to find the best Model "
   ]
  },
  {
   "cell_type": "markdown",
   "id": "94a6500a",
   "metadata": {
    "papermill": {
     "duration": 0.054267,
     "end_time": "2024-09-14T19:34:03.713574",
     "exception": false,
     "start_time": "2024-09-14T19:34:03.659307",
     "status": "completed"
    },
    "tags": []
   },
   "source": [
    "##### We Will Use two other models ( Lasso Regression , and decision Tree) which both are great for our dataset too "
   ]
  },
  {
   "cell_type": "code",
   "execution_count": 63,
   "id": "06ef9861",
   "metadata": {
    "execution": {
     "iopub.execute_input": "2024-09-14T19:34:03.825404Z",
     "iopub.status.busy": "2024-09-14T19:34:03.824901Z",
     "iopub.status.idle": "2024-09-14T19:34:03.937206Z",
     "shell.execute_reply": "2024-09-14T19:34:03.936036Z"
    },
    "papermill": {
     "duration": 0.172075,
     "end_time": "2024-09-14T19:34:03.940359",
     "exception": false,
     "start_time": "2024-09-14T19:34:03.768284",
     "status": "completed"
    },
    "tags": []
   },
   "outputs": [],
   "source": [
    "from sklearn.model_selection import GridSearchCV\n",
    "\n",
    "from sklearn.linear_model import Lasso\n",
    "from sklearn.tree import DecisionTreeRegressor\n",
    "\n",
    "def find_best_model_using_gridsearchcv(X,y):\n",
    "    algos = {\n",
    "        'linear_regression' : {\n",
    "            'model': LinearRegression(),\n",
    "            'params': {\n",
    "                'copy_X' : [True, False],\n",
    "                'fit_intercept' : [True, False],\n",
    "                'n_jobs' : [1,2,3],\n",
    "                'positive' : [True, False]\n",
    "            }\n",
    "        },\n",
    "        'lasso': {\n",
    "            'model': Lasso(),\n",
    "            'params': {\n",
    "                'alpha': [1,2],\n",
    "                'selection': ['random', 'cyclic']\n",
    "            }\n",
    "        },\n",
    "        'decision_tree': {\n",
    "            'model': DecisionTreeRegressor(),\n",
    "            'params': {\n",
    "                'criterion' : ['mse','friedman_mse'],\n",
    "                'splitter': ['best','random']\n",
    "            }\n",
    "        }\n",
    "    }\n",
    "    scores = []\n",
    "    cv = ShuffleSplit(n_splits=5, test_size=0.2, random_state=0)\n",
    "    for algo_name, config in algos.items():\n",
    "        gs =  GridSearchCV(config['model'], config['params'], cv=cv, return_train_score=False)\n",
    "        gs.fit(X,y)\n",
    "        scores.append({\n",
    "            'model': algo_name,\n",
    "            'best_score': gs.best_score_,\n",
    "            'best_params': gs.best_params_\n",
    "        })\n",
    "\n",
    "    return pd.DataFrame(scores,columns=['model','best_score','best_params'])"
   ]
  },
  {
   "cell_type": "code",
   "execution_count": 64,
   "id": "2edc0d5a",
   "metadata": {
    "execution": {
     "iopub.execute_input": "2024-09-14T19:34:04.053641Z",
     "iopub.status.busy": "2024-09-14T19:34:04.053113Z",
     "iopub.status.idle": "2024-09-14T19:34:33.925394Z",
     "shell.execute_reply": "2024-09-14T19:34:33.924092Z"
    },
    "papermill": {
     "duration": 29.933308,
     "end_time": "2024-09-14T19:34:33.928008",
     "exception": false,
     "start_time": "2024-09-14T19:34:03.994700",
     "status": "completed"
    },
    "tags": []
   },
   "outputs": [
    {
     "data": {
      "text/html": [
       "<div>\n",
       "<style scoped>\n",
       "    .dataframe tbody tr th:only-of-type {\n",
       "        vertical-align: middle;\n",
       "    }\n",
       "\n",
       "    .dataframe tbody tr th {\n",
       "        vertical-align: top;\n",
       "    }\n",
       "\n",
       "    .dataframe thead th {\n",
       "        text-align: right;\n",
       "    }\n",
       "</style>\n",
       "<table border=\"1\" class=\"dataframe\">\n",
       "  <thead>\n",
       "    <tr style=\"text-align: right;\">\n",
       "      <th></th>\n",
       "      <th>model</th>\n",
       "      <th>best_score</th>\n",
       "      <th>best_params</th>\n",
       "    </tr>\n",
       "  </thead>\n",
       "  <tbody>\n",
       "    <tr>\n",
       "      <th>0</th>\n",
       "      <td>linear_regression</td>\n",
       "      <td>0.819001</td>\n",
       "      <td>{'copy_X': True, 'fit_intercept': False, 'n_jo...</td>\n",
       "    </tr>\n",
       "    <tr>\n",
       "      <th>1</th>\n",
       "      <td>lasso</td>\n",
       "      <td>0.687474</td>\n",
       "      <td>{'alpha': 1, 'selection': 'random'}</td>\n",
       "    </tr>\n",
       "    <tr>\n",
       "      <th>2</th>\n",
       "      <td>decision_tree</td>\n",
       "      <td>0.718585</td>\n",
       "      <td>{'criterion': 'friedman_mse', 'splitter': 'best'}</td>\n",
       "    </tr>\n",
       "  </tbody>\n",
       "</table>\n",
       "</div>"
      ],
      "text/plain": [
       "               model  best_score  \\\n",
       "0  linear_regression    0.819001   \n",
       "1              lasso    0.687474   \n",
       "2      decision_tree    0.718585   \n",
       "\n",
       "                                         best_params  \n",
       "0  {'copy_X': True, 'fit_intercept': False, 'n_jo...  \n",
       "1                {'alpha': 1, 'selection': 'random'}  \n",
       "2  {'criterion': 'friedman_mse', 'splitter': 'best'}  "
      ]
     },
     "execution_count": 64,
     "metadata": {},
     "output_type": "execute_result"
    }
   ],
   "source": [
    "find_best_model_using_gridsearchcv(X,y)"
   ]
  },
  {
   "cell_type": "markdown",
   "id": "3a281341",
   "metadata": {
    "papermill": {
     "duration": 0.052551,
     "end_time": "2024-09-14T19:34:34.034773",
     "exception": false,
     "start_time": "2024-09-14T19:34:33.982222",
     "status": "completed"
    },
    "tags": []
   },
   "source": [
    "<div class=\"intro2\"> Based On The Results Above , its obvious that our best model is Linear Regression </div>"
   ]
  },
  {
   "cell_type": "markdown",
   "id": "ec0419a8",
   "metadata": {
    "papermill": {
     "duration": 0.053312,
     "end_time": "2024-09-14T19:34:34.141199",
     "exception": false,
     "start_time": "2024-09-14T19:34:34.087887",
     "status": "completed"
    },
    "tags": []
   },
   "source": [
    "<div class=\"intro\"> Test the model for few properties </div>"
   ]
  },
  {
   "cell_type": "code",
   "execution_count": 65,
   "id": "bedd213f",
   "metadata": {
    "execution": {
     "iopub.execute_input": "2024-09-14T19:34:34.251690Z",
     "iopub.status.busy": "2024-09-14T19:34:34.251196Z",
     "iopub.status.idle": "2024-09-14T19:34:34.258848Z",
     "shell.execute_reply": "2024-09-14T19:34:34.257665Z"
    },
    "papermill": {
     "duration": 0.065326,
     "end_time": "2024-09-14T19:34:34.261664",
     "exception": false,
     "start_time": "2024-09-14T19:34:34.196338",
     "status": "completed"
    },
    "tags": []
   },
   "outputs": [],
   "source": [
    "def predict_price(location,sqft,bath,bhk):    \n",
    "    loc_index = np.where(X.columns==location)[0][0]\n",
    "\n",
    "    x = np.zeros(len(X.columns))\n",
    "    x[0] = sqft\n",
    "    x[1] = bath\n",
    "    x[2] = bhk\n",
    "    if loc_index >= 0:\n",
    "        x[loc_index] = 1\n",
    "\n",
    "    return lr_clf.predict([x])[0]"
   ]
  },
  {
   "cell_type": "markdown",
   "id": "47cd5ab2",
   "metadata": {
    "papermill": {
     "duration": 0.054756,
     "end_time": "2024-09-14T19:34:34.371335",
     "exception": false,
     "start_time": "2024-09-14T19:34:34.316579",
     "status": "completed"
    },
    "tags": []
   },
   "source": [
    "##### Lets Predict Some House prices based on feature"
   ]
  },
  {
   "cell_type": "code",
   "execution_count": 66,
   "id": "694cc0a9",
   "metadata": {
    "execution": {
     "iopub.execute_input": "2024-09-14T19:34:34.484044Z",
     "iopub.status.busy": "2024-09-14T19:34:34.483571Z",
     "iopub.status.idle": "2024-09-14T19:34:34.491874Z",
     "shell.execute_reply": "2024-09-14T19:34:34.490639Z"
    },
    "papermill": {
     "duration": 0.068095,
     "end_time": "2024-09-14T19:34:34.494759",
     "exception": false,
     "start_time": "2024-09-14T19:34:34.426664",
     "status": "completed"
    },
    "tags": []
   },
   "outputs": [
    {
     "data": {
      "text/plain": [
       "Index(['total_sqft', 'bath', 'bhk', '1st Block Jayanagar',\n",
       "       '1st Phase JP Nagar', '2nd Phase Judicial Layout',\n",
       "       '2nd Stage Nagarbhavi', '5th Block Hbr Layout', '5th Phase JP Nagar',\n",
       "       '6th Phase JP Nagar',\n",
       "       ...\n",
       "       'Vijayanagar', 'Vishveshwarya Layout', 'Vishwapriya Layout',\n",
       "       'Vittasandra', 'Whitefield', 'Yelachenahalli', 'Yelahanka',\n",
       "       'Yelahanka New Town', 'Yelenahalli', 'Yeshwanthpur'],\n",
       "      dtype='object', length=244)"
      ]
     },
     "execution_count": 66,
     "metadata": {},
     "output_type": "execute_result"
    }
   ],
   "source": [
    "X.columns"
   ]
  },
  {
   "cell_type": "code",
   "execution_count": 67,
   "id": "5d339d34",
   "metadata": {
    "execution": {
     "iopub.execute_input": "2024-09-14T19:34:34.604040Z",
     "iopub.status.busy": "2024-09-14T19:34:34.603598Z",
     "iopub.status.idle": "2024-09-14T19:34:34.612366Z",
     "shell.execute_reply": "2024-09-14T19:34:34.611127Z"
    },
    "papermill": {
     "duration": 0.066799,
     "end_time": "2024-09-14T19:34:34.614937",
     "exception": false,
     "start_time": "2024-09-14T19:34:34.548138",
     "status": "completed"
    },
    "tags": []
   },
   "outputs": [
    {
     "data": {
      "text/plain": [
       "83.4990467704653"
      ]
     },
     "execution_count": 67,
     "metadata": {},
     "output_type": "execute_result"
    }
   ],
   "source": [
    "predict_price('1st Phase JP Nagar',1000,2,2)"
   ]
  },
  {
   "cell_type": "code",
   "execution_count": 68,
   "id": "b1974975",
   "metadata": {
    "execution": {
     "iopub.execute_input": "2024-09-14T19:34:34.725049Z",
     "iopub.status.busy": "2024-09-14T19:34:34.724614Z",
     "iopub.status.idle": "2024-09-14T19:34:34.733937Z",
     "shell.execute_reply": "2024-09-14T19:34:34.732540Z"
    },
    "papermill": {
     "duration": 0.067539,
     "end_time": "2024-09-14T19:34:34.736362",
     "exception": false,
     "start_time": "2024-09-14T19:34:34.668823",
     "status": "completed"
    },
    "tags": []
   },
   "outputs": [
    {
     "data": {
      "text/plain": [
       "86.80519395072363"
      ]
     },
     "execution_count": 68,
     "metadata": {},
     "output_type": "execute_result"
    }
   ],
   "source": [
    "predict_price('1st Phase JP Nagar',1000,3,3)"
   ]
  },
  {
   "cell_type": "code",
   "execution_count": 69,
   "id": "4e5cba54",
   "metadata": {
    "execution": {
     "iopub.execute_input": "2024-09-14T19:34:34.845934Z",
     "iopub.status.busy": "2024-09-14T19:34:34.844864Z",
     "iopub.status.idle": "2024-09-14T19:34:34.853816Z",
     "shell.execute_reply": "2024-09-14T19:34:34.852500Z"
    },
    "papermill": {
     "duration": 0.066121,
     "end_time": "2024-09-14T19:34:34.856187",
     "exception": false,
     "start_time": "2024-09-14T19:34:34.790066",
     "status": "completed"
    },
    "tags": []
   },
   "outputs": [
    {
     "data": {
      "text/plain": [
       "181.2781548400915"
      ]
     },
     "execution_count": 69,
     "metadata": {},
     "output_type": "execute_result"
    }
   ],
   "source": [
    "predict_price('Indira Nagar',1000, 2, 2)"
   ]
  },
  {
   "cell_type": "code",
   "execution_count": 70,
   "id": "94a3850b",
   "metadata": {
    "execution": {
     "iopub.execute_input": "2024-09-14T19:34:34.969768Z",
     "iopub.status.busy": "2024-09-14T19:34:34.969289Z",
     "iopub.status.idle": "2024-09-14T19:34:34.977829Z",
     "shell.execute_reply": "2024-09-14T19:34:34.976681Z"
    },
    "papermill": {
     "duration": 0.069066,
     "end_time": "2024-09-14T19:34:34.980314",
     "exception": false,
     "start_time": "2024-09-14T19:34:34.911248",
     "status": "completed"
    },
    "tags": []
   },
   "outputs": [
    {
     "data": {
      "text/plain": [
       "184.58430202034984"
      ]
     },
     "execution_count": 70,
     "metadata": {},
     "output_type": "execute_result"
    }
   ],
   "source": [
    "predict_price('Indira Nagar',1000, 3, 3)"
   ]
  },
  {
   "cell_type": "markdown",
   "id": "2e9731df",
   "metadata": {
    "papermill": {
     "duration": 0.056842,
     "end_time": "2024-09-14T19:34:35.093817",
     "exception": false,
     "start_time": "2024-09-14T19:34:35.036975",
     "status": "completed"
    },
    "tags": []
   },
   "source": [
    "<div class=\"section\"> The prediction make sense , so looking good so far </div>"
   ]
  },
  {
   "cell_type": "markdown",
   "id": "0eabe8c4",
   "metadata": {
    "papermill": {
     "duration": 0.057511,
     "end_time": "2024-09-14T19:34:35.207434",
     "exception": false,
     "start_time": "2024-09-14T19:34:35.149923",
     "status": "completed"
    },
    "tags": []
   },
   "source": [
    "# <center> <span style=\"font-family:Playfair Display\"> <span style=\"color:white;display:fill;border-radius:8px;background-color:#a02933;font-size:100%;font-weight: bold;\">Export The Tested Model To A Pickle File To Use It In The Website </span><a id=\"1\"></a> "
   ]
  },
  {
   "cell_type": "code",
   "execution_count": 71,
   "id": "7de70dcc",
   "metadata": {
    "execution": {
     "iopub.execute_input": "2024-09-14T19:34:35.322432Z",
     "iopub.status.busy": "2024-09-14T19:34:35.321213Z",
     "iopub.status.idle": "2024-09-14T19:34:35.327907Z",
     "shell.execute_reply": "2024-09-14T19:34:35.326597Z"
    },
    "papermill": {
     "duration": 0.066047,
     "end_time": "2024-09-14T19:34:35.330644",
     "exception": false,
     "start_time": "2024-09-14T19:34:35.264597",
     "status": "completed"
    },
    "tags": []
   },
   "outputs": [],
   "source": [
    "import pickle\n",
    "with open('banglore_home_prices_model.pickle','wb') as f:\n",
    "    pickle.dump(lr_clf,f)"
   ]
  },
  {
   "cell_type": "markdown",
   "id": "42b04d91",
   "metadata": {
    "papermill": {
     "duration": 0.055548,
     "end_time": "2024-09-14T19:34:35.442700",
     "exception": false,
     "start_time": "2024-09-14T19:34:35.387152",
     "status": "completed"
    },
    "tags": []
   },
   "source": [
    "<div class=\"intro2\"> The Pickle File was successfully exported as we can see in output directory , we will download to use it later in the website</div>"
   ]
  },
  {
   "cell_type": "markdown",
   "id": "07c34cc3",
   "metadata": {
    "papermill": {
     "duration": 0.056135,
     "end_time": "2024-09-14T19:34:35.555126",
     "exception": false,
     "start_time": "2024-09-14T19:34:35.498991",
     "status": "completed"
    },
    "tags": []
   },
   "source": [
    "<div class=\"section\"> since the structure of X.columns are important for our prediciton we will export it as json </div>"
   ]
  },
  {
   "cell_type": "code",
   "execution_count": 72,
   "id": "de9e7f54",
   "metadata": {
    "execution": {
     "iopub.execute_input": "2024-09-14T19:34:35.670962Z",
     "iopub.status.busy": "2024-09-14T19:34:35.669518Z",
     "iopub.status.idle": "2024-09-14T19:34:35.677336Z",
     "shell.execute_reply": "2024-09-14T19:34:35.676202Z"
    },
    "papermill": {
     "duration": 0.068536,
     "end_time": "2024-09-14T19:34:35.679854",
     "exception": false,
     "start_time": "2024-09-14T19:34:35.611318",
     "status": "completed"
    },
    "tags": []
   },
   "outputs": [],
   "source": [
    "import json\n",
    "columns = {\n",
    "    'data_columns' : [col.lower() for col in X.columns]\n",
    "}\n",
    "with open(\"columns.json\",\"w\") as f:\n",
    "    f.write(json.dumps(columns))"
   ]
  },
  {
   "cell_type": "markdown",
   "id": "88962854",
   "metadata": {
    "papermill": {
     "duration": 0.054188,
     "end_time": "2024-09-14T19:34:35.788589",
     "exception": false,
     "start_time": "2024-09-14T19:34:35.734401",
     "status": "completed"
    },
    "tags": []
   },
   "source": [
    "<div class=\"intro2\"> The json File was successfully exported as we can see in output directory , we will download to use it later in the website</div>"
   ]
  },
  {
   "cell_type": "markdown",
   "id": "a388367c",
   "metadata": {
    "papermill": {
     "duration": 0.053238,
     "end_time": "2024-09-14T19:34:35.896860",
     "exception": false,
     "start_time": "2024-09-14T19:34:35.843622",
     "status": "completed"
    },
    "tags": []
   },
   "source": [
    "<div class=\"intro\"> The End </div>"
   ]
  },
  {
   "cell_type": "markdown",
   "id": "5d88b947",
   "metadata": {
    "papermill": {
     "duration": 0.053786,
     "end_time": "2024-09-14T19:34:36.005605",
     "exception": false,
     "start_time": "2024-09-14T19:34:35.951819",
     "status": "completed"
    },
    "tags": []
   },
   "source": [
    "<div class=\"intro2\"> Hope You Enjoyed This Notebook , Next we make a simple website that predict the house price based on user input and deploy it using AWS serverless </div>"
   ]
  }
 ],
 "metadata": {
  "kaggle": {
   "accelerator": "none",
   "dataSources": [
    {
     "datasetId": 20710,
     "sourceId": 26737,
     "sourceType": "datasetVersion"
    }
   ],
   "dockerImageVersionId": 30761,
   "isGpuEnabled": false,
   "isInternetEnabled": true,
   "language": "python",
   "sourceType": "notebook"
  },
  "kernelspec": {
   "display_name": "Python 3",
   "language": "python",
   "name": "python3"
  },
  "language_info": {
   "codemirror_mode": {
    "name": "ipython",
    "version": 3
   },
   "file_extension": ".py",
   "mimetype": "text/x-python",
   "name": "python",
   "nbconvert_exporter": "python",
   "pygments_lexer": "ipython3",
   "version": "3.11.0"
  },
  "papermill": {
   "default_parameters": {},
   "duration": 55.493113,
   "end_time": "2024-09-14T19:34:36.984395",
   "environment_variables": {},
   "exception": null,
   "input_path": "__notebook__.ipynb",
   "output_path": "__notebook__.ipynb",
   "parameters": {},
   "start_time": "2024-09-14T19:33:41.491282",
   "version": "2.6.0"
  }
 },
 "nbformat": 4,
 "nbformat_minor": 5
}
